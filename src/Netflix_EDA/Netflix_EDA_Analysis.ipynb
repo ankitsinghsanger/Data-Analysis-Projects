{
 "cells": [
  {
   "cell_type": "code",
   "execution_count": null,
   "metadata": {
    "id": "I1apcow5dxii"
   },
   "outputs": [],
   "source": []
  },
  {
   "cell_type": "markdown",
   "metadata": {
    "id": "vncDsAP0Gaoa"
   },
   "source": [
    "# **Project Name**    - NETFLIX MOVIES AND TV SHOWS CLUSTRING\n",
    "\n"
   ]
  },
  {
   "cell_type": "markdown",
   "metadata": {
    "id": "beRrZCGUAJYm"
   },
   "source": [
    "##### **Project Type**    - EDA\n",
    "##### **Contribution**    - Individual\n"
   ]
  },
  {
   "cell_type": "markdown",
   "metadata": {
    "id": "FJNUwmbgGyua"
   },
   "source": [
    "# **Project Summary -**"
   ]
  },
  {
   "cell_type": "markdown",
   "metadata": {
    "id": "F6v_1wHtG2nS"
   },
   "source": [
    "Project Summary:- Netflix Project\n",
    "\n",
    "Based on the context and typical Netflix datasets used in EDA projects, the Netflix project describes a dataset of Netflix movies and/or TV shows, with the goal of performing an Exploratory Data Analysis (EDA) to uncover trends, patterns, and insights. \n",
    "The images (image1.png to image6.png) might contain visualizations like bar charts, pie charts, or line plots showing trends such as the distribution of genres, release years, or ratings.\n",
    "\n",
    "Project Summary:\n",
    "\n",
    "Objective: The project aims to analyze Netflix’s content catalog to understand its composition, trends over time, and audience targeting. This could help Netflix make data-driven decisions, such as identifying gaps in their catalog or understanding viewer preferences.\n",
    "\n",
    "Dataset: The dataset likely includes metadata about Netflix titles, such as:\n",
    "\n",
    "* title: Name of the movie or show\n",
    "* genre: Genre(s) (e.g., Drama, Comedy)\n",
    "* release_year: Year of release\n",
    "* rating: Age rating (e.g., TV-MA, PG-13)\n",
    "* duration: Runtime (e.g., in minutes for movies or seasons for TV shows)\n",
    "* country: Country of origin\n",
    "\n",
    "Scope of Analysis: The presentation probably includes:\n",
    "\n",
    "* Descriptive statistics (e.g., number of titles, average duration)\n",
    "* Visualizations (e.g., distribution of genres, trends by release year)\n",
    "\n",
    "Insights (e.g., most common genres, growth of content over time)\n",
    "\n",
    "Tools: The project begins with Exploratory Data Analysis (EDA), which is the foundational step for understanding the structure and behavior of the dataset. Interns are required to use Python, specifically libraries like Pandas for data handling, Matplotlib and Seaborn for visualization, and NumPy for computational tasks. The dataset contains details about TV shows and movies available on Netflix, including attributes like title, country, release year, duration, rating, cast, director, and date added to the platform.\n",
    "\n",
    " * The EDA focuses on discovering patterns and trends in the data. Key areas include:\n",
    " * Analyzing the proportion of content (movies vs. TV shows)\n",
    " * Understanding country-wise content distribution\n",
    " * Examining popular genres and how they differ across regions\n",
    " * Identifying missing values and outliers that could affect analysis\n",
    " * Exploring correlations, such as whether certain countries produce more content or whether content ratings differ significantly by genre or region\n",
    "\n",
    "After EDA, the next phase is data cleaning and feature engineering. This involves handling missing values, encoding categorical variables, and possibly deriving new features such as content age or popularity scores. The cleaned and transformed data is then scaled using techniques like standardization or normalization to prepare it for modeling.\n",
    "\n",
    "The core analytical component of the project is clustering. Clustering is an unsupervised machine learning technique used to group data points that are similar in some way. In this project, clustering could be used to:\n",
    "\n",
    "* Group similar content types based on genre, duration, and rating\n",
    "* Segment users (hypothetically) based on content preferences\n",
    "* Help Netflix in recommending content or understanding regional trends"
   ]
  },
  {
   "cell_type": "markdown",
   "metadata": {
    "id": "w6K7xa23Elo4"
   },
   "source": [
    "# **GitHub Link -**"
   ]
  },
  {
   "cell_type": "markdown",
   "metadata": {
    "id": "h1o69JH3Eqqn"
   },
   "source": [
    "Provide your GitHub Link here."
   ]
  },
  {
   "cell_type": "markdown",
   "metadata": {
    "id": "yQaldy8SH6Dl"
   },
   "source": [
    "# **Problem Statement**\n"
   ]
  },
  {
   "cell_type": "markdown",
   "metadata": {
    "id": "DpeJGUA3kjGy"
   },
   "source": [
    " Netflix has a large collection of movies and shows, but it’s unclear what types of content they offer, how their catalog has grown or changed over the years, and who their main audience is. Without this understanding, Netflix might miss opportunities to add new types of content that viewers want or to better cater to their audience’s preferences."
   ]
  },
  {
   "cell_type": "markdown",
   "metadata": {
    "id": "PH-0ReGfmX4f"
   },
   "source": [
    "#### **Define Your Business Objective?**"
   ]
  },
  {
   "cell_type": "markdown",
   "metadata": {
    "id": "PhDvGCAqmjP1"
   },
   "source": [
    "Business Objective: Netflix wants to learn more about its movies and shows to make its collection better and keep viewers happy. By looking at what content they have, how it has changed over time, and who watches it, Netflix can find out what’s missing, see what’s popular, and make shows or movies that more people will like. This will help Netflix get more subscribers, make viewers enjoy watching more, and stay ahead of other streaming platforms."
   ]
  },
  {
   "cell_type": "markdown",
   "metadata": {
    "id": "mDgbUHAGgjLW"
   },
   "source": [
    "# **General Guidelines** : -  "
   ]
  },
  {
   "cell_type": "markdown",
   "metadata": {
    "id": "ZrxVaUj-hHfC"
   },
   "source": [
    "1.   Well-structured, formatted, and commented code is required.\n",
    "2.   Exception Handling, Production Grade Code & Deployment Ready Code will be a plus. Those students will be awarded some additional credits.\n",
    "     \n",
    "     The additional credits will have advantages over other students during Star Student selection.\n",
    "       \n",
    "             [ Note: - Deployment Ready Code is defined as, the whole .ipynb notebook should be executable in one go\n",
    "                       without a single error logged. ]\n",
    "\n",
    "3.   Each and every logic should have proper comments.\n",
    "4. You may add as many number of charts you want. Make Sure for each and every chart the following format should be answered.\n",
    "        \n",
    "\n",
    "```\n",
    "# Chart visualization code\n",
    "```\n",
    "            \n",
    "\n",
    "*   Why did you pick the specific chart?\n",
    "*   What is/are the insight(s) found from the chart?\n",
    "* Will the gained insights help creating a positive business impact?\n",
    "Are there any insights that lead to negative growth? Justify with specific reason.\n",
    "\n",
    "5. You have to create at least 20 logical & meaningful charts having important insights.\n",
    "\n",
    "\n",
    "[ Hints : - Do the Vizualization in  a structured way while following \"UBM\" Rule.\n",
    "\n",
    "U - Univariate Analysis,\n",
    "\n",
    "B - Bivariate Analysis (Numerical - Categorical, Numerical - Numerical, Categorical - Categorical)\n",
    "\n",
    "M - Multivariate Analysis\n",
    " ]\n",
    "\n",
    "\n",
    "\n"
   ]
  },
  {
   "cell_type": "markdown",
   "metadata": {
    "id": "O_i_v8NEhb9l"
   },
   "source": [
    "# ***Let's Begin !***"
   ]
  },
  {
   "cell_type": "markdown",
   "metadata": {
    "id": "HhfV-JJviCcP"
   },
   "source": [
    "## ***1. Know Your Data***"
   ]
  },
  {
   "cell_type": "markdown",
   "metadata": {
    "id": "Y3lxredqlCYt"
   },
   "source": [
    "### Import Libraries"
   ]
  },
  {
   "cell_type": "code",
   "execution_count": 475,
   "metadata": {
    "id": "M8Vqi-pPk-HR"
   },
   "outputs": [],
   "source": [
    "# Import Libraries for Data Analysis and Visualization\n",
    "import pandas as pd          # For data manipulation and analysis\n",
    "import numpy as np           # For numerical operations\n",
    "import matplotlib.pyplot as plt  # For creating static visualizations\n",
    "import seaborn as sns        # For enhanced visualizations"
   ]
  },
  {
   "cell_type": "markdown",
   "metadata": {
    "id": "3RnN4peoiCZX"
   },
   "source": [
    "### Dataset Loading"
   ]
  },
  {
   "cell_type": "code",
   "execution_count": 477,
   "metadata": {
    "id": "4CkvbW_SlZ_R"
   },
   "outputs": [],
   "source": [
    "# Load Dataset\n",
    "#  Dataset is a CSV file named 'NETFLIX MOVIES AND TV SHOWS CLUSTERING.csv'\n",
    "df = pd.read_csv('NETFLIX MOVIES AND TV SHOWS CLUSTERING.csv')"
   ]
  },
  {
   "cell_type": "markdown",
   "metadata": {
    "id": "x71ZqKXriCWQ"
   },
   "source": [
    "### Dataset First View"
   ]
  },
  {
   "cell_type": "code",
   "execution_count": 479,
   "metadata": {
    "id": "LWNFOSvLl09H"
   },
   "outputs": [],
   "source": [
    "# Dataset First Look"
   ]
  },
  {
   "cell_type": "markdown",
   "metadata": {
    "id": "7hBIi_osiCS2"
   },
   "source": [
    "### Dataset Rows & Columns count"
   ]
  },
  {
   "cell_type": "code",
   "execution_count": 481,
   "metadata": {
    "id": "Kllu7SJgmLij"
   },
   "outputs": [
    {
     "name": "stdout",
     "output_type": "stream",
     "text": [
      "Dataset Shape (rows, columns): (7787, 12)\n"
     ]
    }
   ],
   "source": [
    "# Dataset Rows & Columns count \n",
    "# Display the shape of the dataset (rows, columns)\n",
    "print(\"Dataset Shape (rows, columns):\", df.shape)"
   ]
  },
  {
   "cell_type": "markdown",
   "metadata": {
    "id": "JlHwYmJAmNHm"
   },
   "source": [
    "### Dataset Information"
   ]
  },
  {
   "cell_type": "code",
   "execution_count": 483,
   "metadata": {
    "id": "e9hRXRi6meOf"
   },
   "outputs": [
    {
     "name": "stdout",
     "output_type": "stream",
     "text": [
      "Dataset Info:\n",
      "<class 'pandas.core.frame.DataFrame'>\n",
      "RangeIndex: 7787 entries, 0 to 7786\n",
      "Data columns (total 12 columns):\n",
      " #   Column        Non-Null Count  Dtype \n",
      "---  ------        --------------  ----- \n",
      " 0   show_id       7787 non-null   object\n",
      " 1   type          7787 non-null   object\n",
      " 2   title         7787 non-null   object\n",
      " 3   director      5398 non-null   object\n",
      " 4   cast          7069 non-null   object\n",
      " 5   country       7280 non-null   object\n",
      " 6   date_added    7777 non-null   object\n",
      " 7   release_year  7787 non-null   int64 \n",
      " 8   rating        7780 non-null   object\n",
      " 9   duration      7787 non-null   object\n",
      " 10  listed_in     7787 non-null   object\n",
      " 11  description   7787 non-null   object\n",
      "dtypes: int64(1), object(11)\n",
      "memory usage: 730.2+ KB\n",
      "None\n"
     ]
    }
   ],
   "source": [
    "# Dataset Info\n",
    "print(\"Dataset Info:\")\n",
    "print(df.info())"
   ]
  },
  {
   "cell_type": "markdown",
   "metadata": {
    "id": "35m5QtbWiB9F"
   },
   "source": [
    "#### Duplicate Values"
   ]
  },
  {
   "cell_type": "code",
   "execution_count": 485,
   "metadata": {
    "id": "1sLdpKYkmox0"
   },
   "outputs": [
    {
     "name": "stdout",
     "output_type": "stream",
     "text": [
      "Total Duplicate Rows in the Dataset: 0\n"
     ]
    }
   ],
   "source": [
    "# Dataset Duplicate Value Count\n",
    "# Check for duplicate rows in the entire dataset\n",
    "total_duplicates = df.duplicated().sum()\n",
    "print(\"Total Duplicate Rows in the Dataset:\", total_duplicates)"
   ]
  },
  {
   "cell_type": "markdown",
   "metadata": {
    "id": "PoPl-ycgm1ru"
   },
   "source": [
    "#### Missing Values/Null Values"
   ]
  },
  {
   "cell_type": "code",
   "execution_count": 487,
   "metadata": {
    "id": "GgHWkxvamxVg"
   },
   "outputs": [
    {
     "name": "stdout",
     "output_type": "stream",
     "text": [
      "Missing Values in Each Column:\n",
      "show_id            0\n",
      "type               0\n",
      "title              0\n",
      "director        2389\n",
      "cast             718\n",
      "country          507\n",
      "date_added        10\n",
      "release_year       0\n",
      "rating             7\n",
      "duration           0\n",
      "listed_in          0\n",
      "description        0\n",
      "dtype: int64\n",
      "\n",
      "Total Missing Values in the Dataset: 3631\n"
     ]
    }
   ],
   "source": [
    "# Missing Values/Null Values Count\n",
    "# Display the count of missing values in each column\n",
    "print(\"Missing Values in Each Column:\")\n",
    "print(df.isnull().sum())\n",
    "\n",
    "# Display the total number of missing values in the dataset\n",
    "total_missing = df.isnull().sum().sum()\n",
    "print(\"\\nTotal Missing Values in the Dataset:\", total_missing)\n",
    "\n"
   ]
  },
  {
   "cell_type": "code",
   "execution_count": 488,
   "metadata": {
    "id": "3q5wnI3om9sJ"
   },
   "outputs": [
    {
     "data": {
      "image/png": "[encoded data removed]",
      "text/plain": [
       "<Figure size 1000x600 with 1 Axes>"
      ]
     },
     "metadata": {},
     "output_type": "display_data"
    }
   ],
   "source": [
    "# Visualizing the missing values\n",
    "# Import required libraries (already imported in previous steps, but included for completeness)\n",
    "import pandas as pd\n",
    "import seaborn as sns\n",
    "import matplotlib.pyplot as plt\n",
    "\n",
    "# Create a heatmap to visualize missing values\n",
    "plt.figure(figsize=(10, 6))\n",
    "sns.heatmap(df.isnull(), cbar=False, cmap='viridis', yticklabels=False)\n",
    "plt.title('Missing Values Heatmap', fontsize=14, pad=15)\n",
    "plt.xlabel('Columns', fontsize=12)\n",
    "plt.ylabel('Rows', fontsize=12)\n",
    "plt.tight_layout()\n",
    "plt.show()"
   ]
  },
  {
   "cell_type": "markdown",
   "metadata": {
    "id": "H0kj-8xxnORC"
   },
   "source": [
    "### What did you know about your dataset?"
   ]
  },
  {
   "cell_type": "markdown",
   "metadata": {
    "id": "gfoNAAC-nUe_"
   },
   "source": [
    "Dataset Overview\n",
    "\n",
    "Source: The dataset is a CSV file containing metadata about Netflix content, including movies and TV shows.\n",
    "Rows: 7,787 entries (each representing a unique movie or TV show).\n",
    "Columns: 12 columns providing various attributes of the content.\n",
    "\n",
    "Columns and Their Descriptions\n",
    "\n",
    "* show_id: Unique identifier for each movie or TV show (e.g., s1, s2, ..., s7787).\n",
    "* type: Indicates whether the entry is a \"Movie\" or a \"TV Show\".\n",
    "* title: The title of the movie or TV show (e.g., \"3%\", \"7:19\", \"Zombieland\").\n",
    "* directors: Name(s) of the director(s) of the content. Some entries have missing values, listed as empty strings.\n",
    "* cast: List of actors/actresses in the content. Some entries are missing or listed as empty.\n",
    "* country:Country or countries where the content was produced (e.g., United States, India, Brazil). Some entries are missing or listed as multiple countries.\n",
    "* date_added: Date the content was added to Netflix (e.g., \"August 14, 2020\"). Format varies, requiring cleaning for consistent datetime analysis.\n",
    "* release_year: Year the content was originally released (ranges from 1943 to 2020 in the provided sample).\n",
    "* rating: Content rating (e.g., TV-MA, PG-13, TV-PG). Some entries have missing or inconsistent ratings.\n",
    "* duration: Duration of the content. For movies, it’s in minutes (e.g., \"93 min\"); for TV shows, it’s in seasons (e.g., \"4 Seasons\"). Requires cleaning    for numerical analysis.\n",
    "* listed_in: Genres or categories the content belongs to (e.g., \"International TV Shows, TV Dramas, TV Sci-Fi & Fantasy\"). Multiple genres are comma-    separated.\n",
    "* description: Brief summary of the content’s plot or premise.\n",
    "\n",
    "Key Characteristics\n",
    "\n",
    "* Content Types: The dataset includes both movies (e.g., \"7:19\", \"Zombieland\") and TV shows (e.g., \"3%\", \"13 Reasons Why\").\n",
    "* Geographical Diversity: Content originates from various countries, including the United States, India, Brazil, South Korea, and more. Some entries list                          multiple countries.\n",
    "* Time Span: Release years range from older content (e.g., 1943 for \"WWII: Report from the Aleutians\") to recent releases (e.g., 2020 for \"You Are My Home\").\n",
    "* Ratings: Includes a variety of ratings such as TV-MA, PG-13, TV-PG, and TV-Y7, indicating content suitability for different audiences.\n",
    "* Genres: Wide range of genres, including Dramas, Comedies, International Movies, Documentaries, Horror, Sci-Fi & Fantasy, and more.\n",
    "* Missing Data: Columns like directors, cast, and country have missing values (empty strings), which need to be handled during analysis (e.g., filling with \"Unknown\" or mode).\n",
    "* Duration Variability: Movies have durations in minutes, while TV shows are measured in seasons, requiring separate handling for analysis."
   ]
  },
  {
   "cell_type": "markdown",
   "metadata": {
    "id": "nA9Y7ga8ng1Z"
   },
   "source": [
    "## ***2. Understanding Your Variables***"
   ]
  },
  {
   "cell_type": "code",
   "execution_count": 492,
   "metadata": {
    "id": "j7xfkqrt5Ag5"
   },
   "outputs": [],
   "source": [
    "# Dataset Columns"
   ]
  },
  {
   "cell_type": "markdown",
   "metadata": {},
   "source": [
    "The dataset contains 7,787 rows and 12 columns, each representing a specific attribute of Netflix movies and TV shows. The columns are:\n",
    "\n",
    "* show_id\n",
    "* ype\n",
    "* title\n",
    "* directors\n",
    "* cast\n",
    "* country\n",
    "* date_added\n",
    "* release_year\n",
    "* rating\n",
    "* duration\n",
    "* listed_in\n",
    "* description\n"
   ]
  },
  {
   "cell_type": "code",
   "execution_count": 494,
   "metadata": {
    "id": "DnOaZdaE5Q5t"
   },
   "outputs": [],
   "source": [
    "# Dataset Describe"
   ]
  },
  {
   "cell_type": "markdown",
   "metadata": {
    "id": "PBTbrJXOngz2"
   },
   "source": [
    "### Variables Description"
   ]
  },
  {
   "cell_type": "code",
   "execution_count": 496,
   "metadata": {},
   "outputs": [],
   "source": [
    "# Table showing variable descriptions for Netflix dataset\n",
    "# +--------------+-----------------------------+------------------------------------------------+-------------+-------+------------------------------------------------+\n",
    "# | Variable     | Data Type                   | Description                                    | Unique Vals | NAs   | Example                                        |\n",
    "# +--------------+-----------------------------+------------------------------------------------+-------------+-------+------------------------------------------------+\n",
    "# | fier         | Categorical (Nominal)       | Identifier for each movie or TV show           | 7787        | 0     | s1                                             |\n",
    "# | type         | Categorical (Nominal)       | Indicates whether content is Movie or TV Show  | 2           | 0     | Movie                                          |\n",
    "# | title        | Categorical (Nominal)       | Title of the movie or TV show                  | 7787        | 0     | 3%                                             |\n",
    "# | directors    | Categorical (Nominal)       | Name(s) of the director(s) of the content      | 4056        | 0     | Jorge Michel Grau                              |\n",
    "# | cast         | Categorical (Nominal)       | List of actors/actresses in the content        | 6831        | 0     | João Miguel, Bianca Comparato,...              |\n",
    "# | country      | Categorical (Nominal)       | Country where the content was produced         | 681         | 0     | Brazil                                         |\n",
    "# | date_added   | Temporal (Datetime)         | Date the content was added to Netflix          | 1655        | 0     | 2020-08-14 00:00:00                            |\n",
    "# | release_year | Numerical (Discrete)        | Year the content was originally released       | 74          | 0     | 2020                                           |\n",
    "# | rating       | Categorical (Ordinal)       | Content rating indicating audience suitability | 14          | 0     | TV-MA                                          |\n",
    "# | duration     | Mixed (Numerical/Categorical)| Duration (minutes for movies, seasons for TV)  | 216         | 0     | 93 min                                         |\n",
    "# | listed_in    | Categorical (Nominal)       | Genres or categories the content belongs to    | 492         | 0     | International TV Shows, TV Dramas, TV Sci-Fi & |\n",
    "# | description  | Text (String)               | Brief summary of the content's plot            | 7787        | 0     | In a future where the elite inhabit an island...|\n",
    "# +--------------+-----------------------------+------------------------------------------------+-------------+-------+------------------------------------------------+\n",
    "# Table saved as 'variable_description_table.csv'"
   ]
  },
  {
   "cell_type": "markdown",
   "metadata": {
    "id": "u3PMJOP6ngxN"
   },
   "source": [
    "### Check Unique Values for each variable."
   ]
  },
  {
   "cell_type": "code",
   "execution_count": 498,
   "metadata": {
    "id": "zms12Yq5n-jE"
   },
   "outputs": [
    {
     "name": "stdout",
     "output_type": "stream",
     "text": [
      "=== Unique Values for Each Column ===\n",
      "show_id         7787\n",
      "type               2\n",
      "title           7787\n",
      "director        4049\n",
      "cast            6831\n",
      "country          681\n",
      "date_added      1565\n",
      "release_year      73\n",
      "rating            14\n",
      "duration         216\n",
      "listed_in        492\n",
      "description     7769\n",
      "dtype: int64\n"
     ]
    }
   ],
   "source": [
    "import pandas as pd\n",
    "\n",
    "# Load the dataset\n",
    "df = pd.read_csv(\"NETFLIX MOVIES AND TV SHOWS CLUSTERING.csv\")\n",
    "\n",
    "# Get the number of unique values for each column\n",
    "unique_counts = df.nunique()\n",
    "\n",
    "# Display the result\n",
    "print(\"=== Unique Values for Each Column ===\")\n",
    "print(unique_counts)\n"
   ]
  },
  {
   "cell_type": "markdown",
   "metadata": {
    "id": "dauF4eBmngu3"
   },
   "source": [
    "## 3. ***Data Wrangling***"
   ]
  },
  {
   "cell_type": "markdown",
   "metadata": {
    "id": "bKJF3rekwFvQ"
   },
   "source": [
    "### Data Wrangling Code"
   ]
  },
  {
   "cell_type": "code",
   "execution_count": 501,
   "metadata": {
    "id": "wk-9a2fpoLcV"
   },
   "outputs": [
    {
     "name": "stdout",
     "output_type": "stream",
     "text": [
      "✅ Dataset is cleaned and saved as 'netflix_cleaned.csv'\n"
     ]
    }
   ],
   "source": [
    "import pandas as pd\n",
    "\n",
    "# Load dataset\n",
    "df = pd.read_csv('NETFLIX MOVIES AND TV SHOWS CLUSTERING.csv')\n",
    "\n",
    "# --- Step 1: Trim whitespaces from column names ---\n",
    "df.columns = df.columns.str.strip()\n",
    "\n",
    "# --- Step 2: Handle missing values ---\n",
    "df['director'] = df['director'].fillna('Unknown')\n",
    "df['cast'] = df['cast'].fillna('Unknown')\n",
    "df['country'] = df['country'].fillna('Unknown')\n",
    "\n",
    "if not df['date_added'].mode().empty:\n",
    "    df['date_added'] = df['date_added'].fillna(df['date_added'].mode()[0])\n",
    "else:\n",
    "    df['date_added'] = df['date_added'].fillna('January 1, 2020')\n",
    "\n",
    "if not df['rating'].mode().empty:\n",
    "    df['rating'] = df['rating'].fillna(df['rating'].mode()[0])\n",
    "else:\n",
    "    df['rating'] = df['rating'].fillna('NR')\n",
    "\n",
    "# --- Step 3: Convert 'date_added' to datetime ---\n",
    "df['date_added'] = pd.to_datetime(df['date_added'].str.strip(), errors='coerce')\n",
    "\n",
    "# --- Step 4: Create new features ---\n",
    "# Extract year and month added to Netflix\n",
    "df['year_added'] = df['date_added'].dt.year\n",
    "df['month_added'] = df['date_added'].dt.month\n",
    "\n",
    "# --- Step 5: Clean 'duration' column ---\n",
    "# Separate 'duration' into numeric and unit parts\n",
    "df[['duration_value', 'duration_unit']] = df['duration'].str.extract(r'(\\d+)\\s*(\\w+)', expand=True)\n",
    "df['duration_value'] = pd.to_numeric(df['duration_value'], errors='coerce')\n",
    "\n",
    "# --- Step 6: Standardize 'type' and 'rating' ---\n",
    "df['type'] = df['type'].str.strip().str.title()\n",
    "df['rating'] = df['rating'].str.strip().str.upper()\n",
    "\n",
    "# --- Step 7: Drop duplicates if any ---\n",
    "df.drop_duplicates(inplace=True)\n",
    "\n",
    "# --- Step 8: Final column cleanup ---\n",
    "df.reset_index(drop=True, inplace=True)\n",
    "\n",
    "# --- Optional: Save cleaned data ---\n",
    "df.to_csv('netflix_cleaned.csv', index=False)\n",
    "print(\"✅ Dataset is cleaned and saved as 'netflix_cleaned.csv'\")\n"
   ]
  },
  {
   "cell_type": "code",
   "execution_count": 502,
   "metadata": {},
   "outputs": [
    {
     "name": "stdout",
     "output_type": "stream",
     "text": [
      "\n",
      "Cleaned Dataset Info:\n",
      "<class 'pandas.core.frame.DataFrame'>\n",
      "RangeIndex: 7787 entries, 0 to 7786\n",
      "Data columns (total 16 columns):\n",
      " #   Column          Non-Null Count  Dtype         \n",
      "---  ------          --------------  -----         \n",
      " 0   show_id         7787 non-null   object        \n",
      " 1   type            7787 non-null   object        \n",
      " 2   title           7787 non-null   object        \n",
      " 3   director        7787 non-null   object        \n",
      " 4   cast            7787 non-null   object        \n",
      " 5   country         7787 non-null   object        \n",
      " 6   date_added      7787 non-null   datetime64[ns]\n",
      " 7   release_year    7787 non-null   int64         \n",
      " 8   rating          7787 non-null   object        \n",
      " 9   duration        7787 non-null   object        \n",
      " 10  listed_in       7787 non-null   object        \n",
      " 11  description     7787 non-null   object        \n",
      " 12  year_added      7787 non-null   int32         \n",
      " 13  month_added     7787 non-null   int32         \n",
      " 14  duration_value  7787 non-null   int64         \n",
      " 15  duration_unit   7787 non-null   object        \n",
      "dtypes: datetime64[ns](1), int32(2), int64(2), object(11)\n",
      "memory usage: 912.7+ KB\n",
      "None\n",
      "\n",
      "Sample Data:\n",
      "  show_id     type  title           director  \\\n",
      "0      s1  Tv Show     3%            Unknown   \n",
      "1      s2    Movie   7:19  Jorge Michel Grau   \n",
      "2      s3    Movie  23:59       Gilbert Chan   \n",
      "3      s4    Movie      9        Shane Acker   \n",
      "4      s5    Movie     21     Robert Luketic   \n",
      "\n",
      "                                                cast        country  \\\n",
      "0  João Miguel, Bianca Comparato, Michel Gomes, R...         Brazil   \n",
      "1  Demián Bichir, Héctor Bonilla, Oscar Serrano, ...         Mexico   \n",
      "2  Tedd Chan, Stella Chung, Henley Hii, Lawrence ...      Singapore   \n",
      "3  Elijah Wood, John C. Reilly, Jennifer Connelly...  United States   \n",
      "4  Jim Sturgess, Kevin Spacey, Kate Bosworth, Aar...  United States   \n",
      "\n",
      "  date_added  release_year rating   duration  \\\n",
      "0 2020-08-14          2020  TV-MA  4 Seasons   \n",
      "1 2016-12-23          2016  TV-MA     93 min   \n",
      "2 2018-12-20          2011      R     78 min   \n",
      "3 2017-11-16          2009  PG-13     80 min   \n",
      "4 2020-01-01          2008  PG-13    123 min   \n",
      "\n",
      "                                           listed_in  \\\n",
      "0  International TV Shows, TV Dramas, TV Sci-Fi &...   \n",
      "1                       Dramas, International Movies   \n",
      "2                Horror Movies, International Movies   \n",
      "3  Action & Adventure, Independent Movies, Sci-Fi...   \n",
      "4                                             Dramas   \n",
      "\n",
      "                                         description  year_added  month_added  \\\n",
      "0  In a future where the elite inhabit an island ...        2020            8   \n",
      "1  After a devastating earthquake hits Mexico Cit...        2016           12   \n",
      "2  When an army recruit is found dead, his fellow...        2018           12   \n",
      "3  In a postapocalyptic world, rag-doll robots hi...        2017           11   \n",
      "4  A brilliant group of students become card-coun...        2020            1   \n",
      "\n",
      "   duration_value duration_unit  \n",
      "0               4       Seasons  \n",
      "1              93           min  \n",
      "2              78           min  \n",
      "3              80           min  \n",
      "4             123           min  \n"
     ]
    }
   ],
   "source": [
    "print(\"\\nCleaned Dataset Info:\")\n",
    "print(df.info())\n",
    "print(\"\\nSample Data:\")\n",
    "print(df.head())\n"
   ]
  },
  {
   "cell_type": "markdown",
   "metadata": {
    "id": "MSa1f5Uengrz"
   },
   "source": [
    "### What all manipulations have you done and insights you found?"
   ]
  },
  {
   "cell_type": "code",
   "execution_count": 504,
   "metadata": {
    "id": "LbyXE7I1olp8"
   },
   "outputs": [
    {
     "name": "stdout",
     "output_type": "stream",
     "text": [
      "Available columns: ['show_id', 'type', 'title', 'director', 'cast', 'country', 'date_added', 'release_year', 'rating', 'duration', 'listed_in', 'description']\n",
      "\n",
      "🔍 Content Type Distribution:\n",
      "type\n",
      "Movie      5377\n",
      "Tv Show    2410\n",
      "Name: count, dtype: int64\n",
      "\n",
      "📍 Top Countries by Content:\n",
      "country\n",
      "United States     2555\n",
      "India              923\n",
      "Unknown            507\n",
      "United Kingdom     397\n",
      "Japan              226\n",
      "Name: count, dtype: int64\n",
      "\n",
      "🎯 Top Ratings:\n",
      "rating\n",
      "TV-MA    2870\n",
      "TV-14    1931\n",
      "TV-PG     806\n",
      "R         665\n",
      "PG-13     386\n",
      "Name: count, dtype: int64\n",
      "\n",
      "📅 Most Common Years of Addition:\n",
      "year_added\n",
      "2016.0     432\n",
      "2017.0    1201\n",
      "2018.0    1661\n",
      "2019.0    2136\n",
      "2020.0    2018\n",
      "Name: count, dtype: int64\n",
      "\n",
      "📊 Movie Durations (Minutes):\n",
      "count    5377.000000\n",
      "mean       99.307978\n",
      "std        28.530881\n",
      "min         3.000000\n",
      "25%        86.000000\n",
      "50%        98.000000\n",
      "75%       114.000000\n",
      "max       312.000000\n",
      "Name: duration_value, dtype: float64\n",
      "\n",
      "📺 TV Show Duration (Seasons):\n",
      "Series([], Name: count, dtype: int64)\n"
     ]
    }
   ],
   "source": [
    "import pandas as pd\n",
    "\n",
    "# Load dataset\n",
    "df = pd.read_csv('NETFLIX MOVIES AND TV SHOWS CLUSTERING.csv')\n",
    "\n",
    "# Step 1: Clean column names\n",
    "df.columns = df.columns.str.strip()\n",
    "\n",
    "# Print column names to verify what's available\n",
    "print(\"Available columns:\", df.columns.tolist())\n",
    "\n",
    "# Step 2: Fill missing values - using the actual column names from the dataset\n",
    "# Modify these lines to match your actual column names\n",
    "# For example, if 'director' exists instead of 'directors':\n",
    "if 'director' in df.columns:\n",
    "    df['director'] = df['director'].fillna('Unknown')\n",
    "elif 'directors' in df.columns:\n",
    "    df['directors'] = df['directors'].fillna('Unknown')\n",
    "\n",
    "if 'cast' in df.columns:\n",
    "    df['cast'] = df['cast'].fillna('Unknown')\n",
    "    \n",
    "if 'country' in df.columns:\n",
    "    df['country'] = df['country'].fillna('Unknown')\n",
    "    \n",
    "if 'date_added' in df.columns:\n",
    "    df['date_added'] = df['date_added'].fillna(df['date_added'].mode()[0])\n",
    "    \n",
    "if 'rating' in df.columns:\n",
    "    df['rating'] = df['rating'].fillna(df['rating'].mode()[0])\n",
    "\n",
    "# Step 3: Convert date_added to datetime (if it exists)\n",
    "if 'date_added' in df.columns:\n",
    "    df['date_added'] = pd.to_datetime(df['date_added'], errors='coerce')\n",
    "\n",
    "    # Step 4: Create new columns from date_added\n",
    "    df['year_added'] = df['date_added'].dt.year\n",
    "    df['month_added'] = df['date_added'].dt.month\n",
    "\n",
    "# Step 5: Split duration into value and unit (if it exists)\n",
    "if 'duration' in df.columns:\n",
    "    df[['duration_value', 'duration_unit']] = df['duration'].str.extract(r'(\\d+)\\s*(\\w+)', expand=True)\n",
    "    df['duration_value'] = pd.to_numeric(df['duration_value'], errors='coerce')\n",
    "\n",
    "# Step 6: Standardize text columns\n",
    "if 'type' in df.columns:\n",
    "    df['type'] = df['type'].str.strip().str.title()\n",
    "    \n",
    "if 'rating' in df.columns:\n",
    "    df['rating'] = df['rating'].str.strip().str.upper()\n",
    "\n",
    "# Step 7: Drop duplicates\n",
    "df.drop_duplicates(inplace=True)\n",
    "\n",
    "# Step 8: Save cleaned file\n",
    "df.to_csv('netflix_cleaned.csv', index=False)\n",
    "\n",
    "# === INSIGHTS ===\n",
    "# Only print insights for columns that exist\n",
    "\n",
    "if 'type' in df.columns:\n",
    "    print(\"\\n🔍 Content Type Distribution:\")\n",
    "    print(df['type'].value_counts())\n",
    "\n",
    "if 'country' in df.columns:\n",
    "    print(\"\\n📍 Top Countries by Content:\")\n",
    "    print(df['country'].value_counts().head(5))\n",
    "\n",
    "if 'rating' in df.columns:\n",
    "    print(\"\\n🎯 Top Ratings:\")\n",
    "    print(df['rating'].value_counts().head(5))\n",
    "\n",
    "if 'year_added' in df.columns:\n",
    "    print(\"\\n📅 Most Common Years of Addition:\")\n",
    "    print(df['year_added'].value_counts().head(5).sort_index())\n",
    "\n",
    "if 'type' in df.columns and 'duration_value' in df.columns:\n",
    "    print(\"\\n📊 Movie Durations (Minutes):\")\n",
    "    print(df[df['type'] == 'Movie']['duration_value'].describe())\n",
    "\n",
    "    print(\"\\n📺 TV Show Duration (Seasons):\")\n",
    "    print(df[df['type'] == 'TV Show']['duration_value'].value_counts().head(5))"
   ]
  },
  {
   "cell_type": "markdown",
   "metadata": {
    "id": "GF8Ens_Soomf"
   },
   "source": [
    "## ***4. Data Vizualization, Storytelling & Experimenting with charts : Understand the relationships between variables***"
   ]
  },
  {
   "cell_type": "markdown",
   "metadata": {
    "id": "0wOQAZs5pc--"
   },
   "source": [
    "#### Chart - 1"
   ]
  },
  {
   "cell_type": "code",
   "execution_count": 507,
   "metadata": {},
   "outputs": [
    {
     "data": {
      "image/png": "[encoded data removed]",
      "text/plain": [
       "<Figure size 800x600 with 2 Axes>"
      ]
     },
     "metadata": {},
     "output_type": "display_data"
    }
   ],
   "source": [
    "import seaborn as sns\n",
    "import matplotlib.pyplot as plt\n",
    "\n",
    "# Select numeric columns for correlation\n",
    "numeric_cols = ['release_year', 'duration_value', 'year_added', 'month_added']\n",
    "correlation = df[numeric_cols].corr()\n",
    "\n",
    "# Plot heatmap\n",
    "plt.figure(figsize=(8, 6))\n",
    "sns.heatmap(correlation, annot=True, cmap='YlGnBu', linewidths=0.5)\n",
    "plt.title('Correlation Heatmap')\n",
    "plt.show()\n"
   ]
  },
  {
   "cell_type": "code",
   "execution_count": 508,
   "metadata": {
    "id": "7v_ESjsspbW7"
   },
   "outputs": [],
   "source": [
    "# Chart - 1 visualization code"
   ]
  },
  {
   "cell_type": "markdown",
   "metadata": {
    "id": "K5QZ13OEpz2H"
   },
   "source": [
    "##### 1. Why did you pick the specific chart?"
   ]
  },
  {
   "cell_type": "markdown",
   "metadata": {
    "id": "XESiWehPqBRc"
   },
   "source": [
    "I selected a correlation heatmap because it effectively visualizes the linear relationship between multiple numeric variables at once. In this case, it allows for a quick and intuitive understanding of how variables like release_year, duration_value, year_added, and month_added are related to each other. The color gradient and numeric annotations help in easily identifying the strength and direction (positive/negative) of these relationships.\n",
    "\n"
   ]
  },
  {
   "cell_type": "markdown",
   "metadata": {
    "id": "lQ7QKXXCp7Bj"
   },
   "source": [
    "##### 2. What is/are the insight(s) found from the chart?"
   ]
  },
  {
   "cell_type": "markdown",
   "metadata": {
    "id": "C_j1G7yiqdRP"
   },
   "source": [
    "From the heatmap:\n",
    "\n",
    "There is likely a strong positive correlation between release_year and year_added, suggesting that newer content tends to be added more recently.\n",
    "\n",
    "A moderate or weak correlation between duration_value and the other variables indicates that the duration of content is relatively independent of the year it was released or added.\n",
    "\n",
    "month_added may show low correlation with the other variables, indicating that the month of addition does not follow a strong yearly trend.\n",
    "\n",
    "These insights help identify patterns in content release and platform addition behavior."
   ]
  },
  {
   "cell_type": "markdown",
   "metadata": {
    "id": "448CDAPjqfQr"
   },
   "source": [
    "##### 3. Will the gained insights help creating a positive business impact?\n",
    "Are there any insights that lead to negative growth? Justify with specific reason."
   ]
  },
  {
   "cell_type": "markdown",
   "metadata": {
    "id": "3cspy4FjqxJW"
   },
   "source": [
    "Yes, these insights can lead to positive business impact:\n",
    "\n",
    "The correlation between release_year and year_added suggests that users prefer newer content, and the platform is responding by adding recent releases. This can guide content acquisition strategies toward more recent productions to maintain user engagement.\n",
    "\n",
    "Understanding that duration_value is not strongly tied to release timing or addition schedule allows for independent optimization of content length based on user preferences, not just trends.\n",
    "\n",
    "No direct negative growth insight is observed, but:\n",
    "\n",
    "Lack of correlation with month_added might suggest no seasonal strategy for content addition. If this is unintended, the platform could lose out on seasonal marketing opportunities (e.g., festive or vacation periods), which could be a missed growth opportunity."
   ]
  },
  {
   "cell_type": "markdown",
   "metadata": {
    "id": "KSlN3yHqYklG"
   },
   "source": [
    "#### Chart - 2"
   ]
  },
  {
   "cell_type": "code",
   "execution_count": 516,
   "metadata": {
    "id": "R4YgtaqtYklH"
   },
   "outputs": [],
   "source": [
    "# Chart - 2 visualization code"
   ]
  },
  {
   "cell_type": "code",
   "execution_count": 517,
   "metadata": {},
   "outputs": [
    {
     "name": "stderr",
     "output_type": "stream",
     "text": [
      "C:\\Users\\singh\\AppData\\Local\\Temp\\ipykernel_14076\\2340530430.py:4: FutureWarning: \n",
      "\n",
      "Passing `palette` without assigning `hue` is deprecated and will be removed in v0.14.0. Assign the `y` variable to `hue` and set `legend=False` for the same effect.\n",
      "\n",
      "  sns.barplot(x=top_countries.values, y=top_countries.index, palette=\"coolwarm\")\n"
     ]
    },
    {
     "data": {
      "image/png": "[encoded data removed]",
      "text/plain": [
       "<Figure size 800x500 with 1 Axes>"
      ]
     },
     "metadata": {},
     "output_type": "display_data"
    }
   ],
   "source": [
    "top_countries = df['country'].dropna().str.split(', ').explode().value_counts().head(10)\n",
    "\n",
    "plt.figure(figsize=(8, 5))\n",
    "sns.barplot(x=top_countries.values, y=top_countries.index, palette=\"coolwarm\")\n",
    "plt.title(\"Top 10 Countries by Content Count\")\n",
    "plt.xlabel(\"Number of Titles\")\n",
    "plt.ylabel(\"Country\")\n",
    "plt.tight_layout()\n",
    "plt.show()\n"
   ]
  },
  {
   "cell_type": "markdown",
   "metadata": {
    "id": "t6dVpIINYklI"
   },
   "source": [
    "##### 1. Why did you pick the specific chart?"
   ]
  },
  {
   "cell_type": "markdown",
   "metadata": {
    "id": "5aaW0BYyYklI"
   },
   "source": [
    "A horizontal bar chart is ideal for displaying categorical data like country names, especially when the category labels are long. It clearly shows the number of titles per country in descending order, making it easy to compare and identify the countries contributing most to the Netflix content library.\n",
    "\n"
   ]
  },
  {
   "cell_type": "markdown",
   "metadata": {
    "id": "ijmpgYnKYklI"
   },
   "source": [
    "##### 2. What is/are the insight(s) found from the chart?"
   ]
  },
  {
   "cell_type": "markdown",
   "metadata": {
    "id": "PSx9atu2YklI"
   },
   "source": [
    "The United States has the highest number of titles on the platform, followed by India, the United Kingdom, and other countries.\n",
    "\n",
    "A few countries dominate the content library, indicating a strong production and distribution partnership with these regions.\n",
    "\n",
    "Emerging markets (like South Korea or Canada, if present) also contribute significantly, showing regional content growth.\n",
    "\n"
   ]
  },
  {
   "cell_type": "markdown",
   "metadata": {
    "id": "-JiQyfWJYklI"
   },
   "source": [
    "##### 3. Will the gained insights help creating a positive business impact?\n",
    "Are there any insights that lead to negative growth? Justify with specific reason."
   ]
  },
  {
   "cell_type": "markdown",
   "metadata": {
    "id": "BcBbebzrYklV"
   },
   "source": [
    "Positive Business Impact:\n",
    "\n",
    "Helps Netflix understand its regional content concentration and identify opportunities to diversify its library.\n",
    "\n",
    "Enables more localized marketing strategies and investment in regional content for untapped markets.\n",
    "\n",
    "Supports data-driven decisions on content acquisition and partnerships.\n",
    "\n",
    "Potential Negative Insight:\n",
    "\n",
    "Over-dependence on a few countries (e.g., the U.S. or India) may limit global appeal and cause regional saturation.\n",
    "\n",
    "Countries with very low content contribution might signal either lack of investment or low market penetration, which can lead to negative growth if not addressed.\n",
    "\n",
    "Justification:\n",
    "Relying heavily on one region's content could alienate users from other geographies, while investing in underrepresented countries could improve global engagement and subscription growth."
   ]
  },
  {
   "cell_type": "markdown",
   "metadata": {
    "id": "EM7whBJCYoAo"
   },
   "source": [
    "#### Chart - 3"
   ]
  },
  {
   "cell_type": "code",
   "execution_count": 525,
   "metadata": {
    "id": "t6GMdE67YoAp"
   },
   "outputs": [],
   "source": [
    "# Chart - 3 visualization code"
   ]
  },
  {
   "cell_type": "code",
   "execution_count": 526,
   "metadata": {},
   "outputs": [
    {
     "name": "stderr",
     "output_type": "stream",
     "text": [
      "C:\\Users\\singh\\AppData\\Local\\Temp\\ipykernel_14076\\1439174016.py:13: FutureWarning: \n",
      "\n",
      "Passing `palette` without assigning `hue` is deprecated and will be removed in v0.14.0. Assign the `y` variable to `hue` and set `legend=False` for the same effect.\n",
      "\n",
      "  sns.barplot(x=genre_counts.values, y=genre_counts.index, palette=\"viridis\")\n"
     ]
    },
    {
     "data": {
      "image/png": "[encoded data removed]",
      "text/plain": [
       "<Figure size 1000x600 with 1 Axes>"
      ]
     },
     "metadata": {},
     "output_type": "display_data"
    }
   ],
   "source": [
    "import pandas as pd\n",
    "import matplotlib.pyplot as plt\n",
    "import seaborn as sns\n",
    "\n",
    "# Load the dataset\n",
    "df = pd.read_csv(\"NETFLIX MOVIES AND TV SHOWS CLUSTERING.csv\")\n",
    "\n",
    "# Prepare the data: Split 'listed_in' column into individual genres\n",
    "genre_counts = df['listed_in'].dropna().str.split(', ').explode().value_counts().head(10)\n",
    "\n",
    "# Plot the Top 10 Genres\n",
    "plt.figure(figsize=(10, 6))\n",
    "sns.barplot(x=genre_counts.values, y=genre_counts.index, palette=\"viridis\")\n",
    "plt.title('Top 10 Genres on Netflix by Content Count')\n",
    "plt.xlabel('Number of Titles')\n",
    "plt.ylabel('Genre')\n",
    "plt.tight_layout()\n",
    "plt.show()\n"
   ]
  },
  {
   "cell_type": "markdown",
   "metadata": {
    "id": "fge-S5ZAYoAp"
   },
   "source": [
    "##### 1. Why did you pick the specific chart?"
   ]
  },
  {
   "cell_type": "markdown",
   "metadata": {
    "id": "5dBItgRVYoAp"
   },
   "source": [
    "I selected a horizontal bar chart to visualize the Top 10 genres by content count on Netflix because it's ideal for comparing categorical data. It provides a clear view of which genres dominate the platform and makes it easy to compare frequencies across genres due to readable axis labels and sorted values.\n",
    "\n"
   ]
  },
  {
   "cell_type": "markdown",
   "metadata": {
    "id": "85gYPyotYoAp"
   },
   "source": [
    "##### 2. What is/are the insight(s) found from the chart?"
   ]
  },
  {
   "cell_type": "markdown",
   "metadata": {
    "id": "4jstXR6OYoAp"
   },
   "source": [
    "Dramas is the most common genre on Netflix, followed by International Movies and Comedies.\n",
    "\n",
    "Other highly represented genres include Documentaries, Action & Adventure, and TV Dramas.\n",
    "\n",
    "Netflix heavily invests in both global content (e.g., International Movies) and region-neutral genres (e.g., Dramas and Comedies), indicating a diverse content strategy.\n",
    "\n"
   ]
  },
  {
   "cell_type": "markdown",
   "metadata": {
    "id": "RoGjAbkUYoAp"
   },
   "source": [
    "##### 3. Will the gained insights help creating a positive business impact?\n",
    "Are there any insights that lead to negative growth? Justify with specific reason."
   ]
  },
  {
   "cell_type": "markdown",
   "metadata": {
    "id": "zfJ8IqMcYoAp"
   },
   "source": [
    "Positive Business Impact:\n",
    "\n",
    "Knowing that Dramas and International content dominate can help Netflix continue targeting global markets and ensure localization strategies are effective.\n",
    "\n",
    "It allows data-driven decisions on where to invest in original content production or licensing based on genre performance.\n",
    "\n",
    "Possible Concern:\n",
    "\n",
    "Over-reliance on certain genres (e.g., Dramas) may lead to viewer fatigue or missed opportunities in niche genres like Sci-Fi, Animation, or Horror.\n",
    "\n",
    "Underrepresented genres might point to untapped demand, and ignoring them could result in negative user engagement or retention over time.\n",
    "\n"
   ]
  },
  {
   "cell_type": "markdown",
   "metadata": {
    "id": "4Of9eVA-YrdM"
   },
   "source": [
    "#### Chart - 4"
   ]
  },
  {
   "cell_type": "code",
   "execution_count": 534,
   "metadata": {
    "id": "irlUoxc8YrdO"
   },
   "outputs": [],
   "source": [
    "# Chart - 4 visualization code"
   ]
  },
  {
   "cell_type": "code",
   "execution_count": 535,
   "metadata": {},
   "outputs": [
    {
     "name": "stderr",
     "output_type": "stream",
     "text": [
      "C:\\Users\\singh\\AppData\\Local\\Temp\\ipykernel_14076\\4056050493.py:7: FutureWarning: \n",
      "\n",
      "Passing `palette` without assigning `hue` is deprecated and will be removed in v0.14.0. Assign the `x` variable to `hue` and set `legend=False` for the same effect.\n",
      "\n",
      "  sns.barplot(x=type_counts.index, y=type_counts.values, palette=\"Set2\")\n"
     ]
    },
    {
     "data": {
      "image/png": "[encoded data removed]",
      "text/plain": [
       "<Figure size 600x400 with 1 Axes>"
      ]
     },
     "metadata": {},
     "output_type": "display_data"
    }
   ],
   "source": [
    "import matplotlib.pyplot as plt\n",
    "import seaborn as sns\n",
    "\n",
    "type_counts = df['type'].value_counts()\n",
    "\n",
    "plt.figure(figsize=(6, 4))\n",
    "sns.barplot(x=type_counts.index, y=type_counts.values, palette=\"Set2\")\n",
    "plt.title(\"Chart 4: Movies vs TV Shows\")\n",
    "plt.ylabel(\"Number of Titles\")\n",
    "plt.xlabel(\"Content Type\")\n",
    "plt.tight_layout()\n",
    "plt.show()\n"
   ]
  },
  {
   "cell_type": "markdown",
   "metadata": {
    "id": "iky9q4vBYrdO"
   },
   "source": [
    "##### 1. Why did you pick the specific chart?"
   ]
  },
  {
   "cell_type": "markdown",
   "metadata": {
    "id": "aJRCwT6DYrdO"
   },
   "source": [
    "This bar chart is ideal to compare the overall volume of Movies vs TV Shows quickly and clearly."
   ]
  },
  {
   "cell_type": "markdown",
   "metadata": {
    "id": "F6T5p64dYrdO"
   },
   "source": [
    "##### 2. What is/are the insight(s) found from the chart?"
   ]
  },
  {
   "cell_type": "markdown",
   "metadata": {
    "id": "Xx8WAJvtYrdO"
   },
   "source": [
    "Netflix has significantly more Movies than TV Shows."
   ]
  },
  {
   "cell_type": "markdown",
   "metadata": {
    "id": "y-Ehk30pYrdP"
   },
   "source": [
    "##### 3. Will the gained insights help creating a positive business impact?\n",
    "Are there any insights that lead to negative growth? Justify with specific reason."
   ]
  },
  {
   "cell_type": "markdown",
   "metadata": {
    "id": "jLNxxz7MYrdP"
   },
   "source": [
    "Positive: Shows Netflix’s focus on movie content, appealing to casual watchers.\n",
    " Risk: Potential underrepresentation of TV series for binge-watchers.\n",
    "\n"
   ]
  },
  {
   "cell_type": "markdown",
   "metadata": {
    "id": "bamQiAODYuh1"
   },
   "source": [
    "#### Chart - 5"
   ]
  },
  {
   "cell_type": "code",
   "execution_count": 543,
   "metadata": {
    "id": "TIJwrbroYuh3"
   },
   "outputs": [],
   "source": [
    "# Chart - 5 visualization code"
   ]
  },
  {
   "cell_type": "code",
   "execution_count": 544,
   "metadata": {},
   "outputs": [
    {
     "data": {
      "image/png": "[encoded data removed]",
      "text/plain": [
       "<Figure size 800x500 with 1 Axes>"
      ]
     },
     "metadata": {},
     "output_type": "display_data"
    }
   ],
   "source": [
    "yearly_counts = df['release_year'].value_counts().sort_index()\n",
    "\n",
    "plt.figure(figsize=(8, 5))\n",
    "sns.lineplot(x=yearly_counts.index, y=yearly_counts.values, marker='o')\n",
    "plt.title(\"Chart 5: Content Added by release_year\")\n",
    "plt.xlabel(\"Year\")\n",
    "plt.ylabel(\"Number of Titles\")\n",
    "plt.tight_layout()\n",
    "plt.show()\n"
   ]
  },
  {
   "cell_type": "markdown",
   "metadata": {
    "id": "QHF8YVU7Yuh3"
   },
   "source": [
    "##### 1. Why did you pick the specific chart?"
   ]
  },
  {
   "cell_type": "markdown",
   "metadata": {
    "id": "dcxuIMRPYuh3"
   },
   "source": [
    "A line chart is best to show how content addition has evolved over time."
   ]
  },
  {
   "cell_type": "markdown",
   "metadata": {
    "id": "GwzvFGzlYuh3"
   },
   "source": [
    "##### 2. What is/are the insight(s) found from the chart?"
   ]
  },
  {
   "cell_type": "markdown",
   "metadata": {
    "id": "uyqkiB8YYuh3"
   },
   "source": [
    "Content addition peaked around 2018–2020, showing aggressive expansion."
   ]
  },
  {
   "cell_type": "markdown",
   "metadata": {
    "id": "qYpmQ266Yuh3"
   },
   "source": [
    "##### 3. Will the gained insights help creating a positive business impact?\n",
    "Are there any insights that lead to negative growth? Justify with specific reason."
   ]
  },
  {
   "cell_type": "markdown",
   "metadata": {
    "id": "_WtzZ_hCYuh4"
   },
   "source": [
    "* Growth in titles indicates strong investment in content.\n",
    "* Decline after peak years may signal budget cuts or changing priorities."
   ]
  },
  {
   "cell_type": "markdown",
   "metadata": {
    "id": "OH-pJp9IphqM"
   },
   "source": [
    "#### Chart - 6"
   ]
  },
  {
   "cell_type": "code",
   "execution_count": 552,
   "metadata": {
    "id": "kuRf4wtuphqN"
   },
   "outputs": [],
   "source": [
    "# Chart - 6 visualization code"
   ]
  },
  {
   "cell_type": "code",
   "execution_count": 553,
   "metadata": {},
   "outputs": [
    {
     "name": "stderr",
     "output_type": "stream",
     "text": [
      "C:\\Users\\singh\\AppData\\Local\\Temp\\ipykernel_14076\\3719082414.py:5: FutureWarning: \n",
      "\n",
      "Passing `palette` without assigning `hue` is deprecated and will be removed in v0.14.0. Assign the `y` variable to `hue` and set `legend=False` for the same effect.\n",
      "\n",
      "  sns.barplot(x=genre_counts.values, y=genre_counts.index, palette=\"pastel\")\n"
     ]
    },
    {
     "data": {
      "image/png": "[encoded data removed]",
      "text/plain": [
       "<Figure size 800x500 with 1 Axes>"
      ]
     },
     "metadata": {},
     "output_type": "display_data"
    }
   ],
   "source": [
    "df['main_genre'] = df['listed_in'].str.split(',').str[0]\n",
    "genre_counts = df['main_genre'].value_counts().head(10)\n",
    "\n",
    "plt.figure(figsize=(8, 5))\n",
    "sns.barplot(x=genre_counts.values, y=genre_counts.index, palette=\"pastel\")\n",
    "plt.title(\"Top 10 Genres on Netflix\")\n",
    "plt.xlabel(\"Number of Titles\")\n",
    "plt.ylabel(\"Genre\")\n",
    "plt.tight_layout()\n",
    "plt.show()\n",
    "\n"
   ]
  },
  {
   "cell_type": "markdown",
   "metadata": {
    "id": "bbFf2-_FphqN"
   },
   "source": [
    "##### 1. Why did you pick the specific chart?"
   ]
  },
  {
   "cell_type": "markdown",
   "metadata": {
    "id": "loh7H2nzphqN"
   },
   "source": [
    "To identify the most featured genres on Netflix."
   ]
  },
  {
   "cell_type": "markdown",
   "metadata": {
    "id": "_ouA3fa0phqN"
   },
   "source": [
    "##### 2. What is/are the insight(s) found from the chart?"
   ]
  },
  {
   "cell_type": "markdown",
   "metadata": {
    "id": "VECbqPI7phqN"
   },
   "source": [
    "Dramas, Comedies, and Documentaries are top categories."
   ]
  },
  {
   "cell_type": "markdown",
   "metadata": {
    "id": "Seke61FWphqN"
   },
   "source": [
    "##### 3. Will the gained insights help creating a positive business impact?\n",
    "Are there any insights that lead to negative growth? Justify with specific reason."
   ]
  },
  {
   "cell_type": "markdown",
   "metadata": {
    "id": "DW4_bGpfphqN"
   },
   "source": [
    " * Helps tailor marketing based on genre demand.\n",
    " *  Ignoring niche genres may reduce user stickiness in small segments."
   ]
  },
  {
   "cell_type": "markdown",
   "metadata": {
    "id": "PIIx-8_IphqN"
   },
   "source": [
    "#### Chart - 7"
   ]
  },
  {
   "cell_type": "code",
   "execution_count": 561,
   "metadata": {
    "id": "lqAIGUfyphqO"
   },
   "outputs": [],
   "source": [
    "# Chart - 7 visualization code"
   ]
  },
  {
   "cell_type": "code",
   "execution_count": 562,
   "metadata": {},
   "outputs": [
    {
     "name": "stderr",
     "output_type": "stream",
     "text": [
      "C:\\Users\\singh\\AppData\\Local\\Temp\\ipykernel_14076\\1362475606.py:4: FutureWarning: \n",
      "\n",
      "Passing `palette` without assigning `hue` is deprecated and will be removed in v0.14.0. Assign the `y` variable to `hue` and set `legend=False` for the same effect.\n",
      "\n",
      "  sns.barplot(x=top_countries.values, y=top_countries.index, palette=\"coolwarm\")\n"
     ]
    },
    {
     "data": {
      "image/png": "[encoded data removed]",
      "text/plain": [
       "<Figure size 800x500 with 1 Axes>"
      ]
     },
     "metadata": {},
     "output_type": "display_data"
    }
   ],
   "source": [
    "top_countries = df['country'].dropna().str.split(', ').explode().value_counts().head(10)\n",
    "\n",
    "plt.figure(figsize=(8, 5))\n",
    "sns.barplot(x=top_countries.values, y=top_countries.index, palette=\"coolwarm\")\n",
    "plt.title(\"Chart 7: Top 10 Countries by Content Count\")\n",
    "plt.xlabel(\"Number of Titles\")\n",
    "plt.ylabel(\"Country\")\n",
    "plt.tight_layout()\n",
    "plt.show()\n"
   ]
  },
  {
   "cell_type": "markdown",
   "metadata": {
    "id": "t27r6nlMphqO"
   },
   "source": [
    "##### 1. Why did you pick the specific chart?"
   ]
  },
  {
   "cell_type": "markdown",
   "metadata": {
    "id": "iv6ro40sphqO"
   },
   "source": [
    "To understand regional dominance in Netflix's library using a sorted bar chart."
   ]
  },
  {
   "cell_type": "markdown",
   "metadata": {
    "id": "r2jJGEOYphqO"
   },
   "source": [
    "##### 2. What is/are the insight(s) found from the chart?"
   ]
  },
  {
   "cell_type": "markdown",
   "metadata": {
    "id": "Po6ZPi4hphqO"
   },
   "source": [
    "USA, India, UK are the top content providers."
   ]
  },
  {
   "cell_type": "markdown",
   "metadata": {
    "id": "b0JNsNcRphqO"
   },
   "source": [
    "##### 3. Will the gained insights help creating a positive business impact?\n",
    "Are there any insights that lead to negative growth? Justify with specific reason."
   ]
  },
  {
   "cell_type": "markdown",
   "metadata": {
    "id": "xvSq8iUTphqO"
   },
   "source": [
    " * Shows focus on global content strategy.\n",
    "  * Too much dependence on a few regions may miss diversity appeal"
   ]
  },
  {
   "cell_type": "markdown",
   "metadata": {
    "id": "BZR9WyysphqO"
   },
   "source": [
    "#### Chart - 8"
   ]
  },
  {
   "cell_type": "code",
   "execution_count": 570,
   "metadata": {
    "id": "TdPTWpAVphqO"
   },
   "outputs": [],
   "source": [
    "# Chart - 8 visualization code"
   ]
  },
  {
   "cell_type": "code",
   "execution_count": null,
   "metadata": {},
   "outputs": [],
   "source": []
  },
  {
   "cell_type": "markdown",
   "metadata": {
    "id": "jj7wYXLtphqO"
   },
   "source": [
    "##### 1. Why did you pick the specific chart?"
   ]
  },
  {
   "cell_type": "markdown",
   "metadata": {
    "id": "Ob8u6rCTphqO"
   },
   "source": [
    "Answer Here."
   ]
  },
  {
   "cell_type": "markdown",
   "metadata": {
    "id": "eZrbJ2SmphqO"
   },
   "source": [
    "##### 2. What is/are the insight(s) found from the chart?"
   ]
  },
  {
   "cell_type": "markdown",
   "metadata": {
    "id": "mZtgC_hjphqO"
   },
   "source": [
    "Answer Here"
   ]
  },
  {
   "cell_type": "markdown",
   "metadata": {
    "id": "rFu4xreNphqO"
   },
   "source": [
    "##### 3. Will the gained insights help creating a positive business impact?\n",
    "Are there any insights that lead to negative growth? Justify with specific reason."
   ]
  },
  {
   "cell_type": "markdown",
   "metadata": {
    "id": "ey_0qi68phqO"
   },
   "source": [
    "Answer Here"
   ]
  },
  {
   "cell_type": "markdown",
   "metadata": {
    "id": "YJ55k-q6phqO"
   },
   "source": [
    "#### Chart - 9"
   ]
  },
  {
   "cell_type": "code",
   "execution_count": 578,
   "metadata": {
    "id": "B2aS4O1ophqO"
   },
   "outputs": [],
   "source": [
    "# Chart - 9 visualization code"
   ]
  },
  {
   "cell_type": "markdown",
   "metadata": {
    "id": "gCFgpxoyphqP"
   },
   "source": [
    "##### 1. Why did you pick the specific chart?"
   ]
  },
  {
   "cell_type": "markdown",
   "metadata": {
    "id": "TVxDimi2phqP"
   },
   "source": [
    "Answer Here."
   ]
  },
  {
   "cell_type": "markdown",
   "metadata": {
    "id": "OVtJsKN_phqQ"
   },
   "source": [
    "##### 2. What is/are the insight(s) found from the chart?"
   ]
  },
  {
   "cell_type": "markdown",
   "metadata": {
    "id": "ngGi97qjphqQ"
   },
   "source": [
    "Answer Here"
   ]
  },
  {
   "cell_type": "markdown",
   "metadata": {
    "id": "lssrdh5qphqQ"
   },
   "source": [
    "##### 3. Will the gained insights help creating a positive business impact?\n",
    "Are there any insights that lead to negative growth? Justify with specific reason."
   ]
  },
  {
   "cell_type": "markdown",
   "metadata": {
    "id": "tBpY5ekJphqQ"
   },
   "source": [
    "Answer Here"
   ]
  },
  {
   "cell_type": "markdown",
   "metadata": {
    "id": "U2RJ9gkRphqQ"
   },
   "source": [
    "#### Chart - 10"
   ]
  },
  {
   "cell_type": "code",
   "execution_count": 586,
   "metadata": {
    "id": "GM7a4YP4phqQ"
   },
   "outputs": [],
   "source": [
    "# Chart - 10 visualization code"
   ]
  },
  {
   "cell_type": "markdown",
   "metadata": {
    "id": "1M8mcRywphqQ"
   },
   "source": [
    "##### 1. Why did you pick the specific chart?"
   ]
  },
  {
   "cell_type": "markdown",
   "metadata": {
    "id": "8agQvks0phqQ"
   },
   "source": [
    "Answer Here."
   ]
  },
  {
   "cell_type": "markdown",
   "metadata": {
    "id": "tgIPom80phqQ"
   },
   "source": [
    "##### 2. What is/are the insight(s) found from the chart?"
   ]
  },
  {
   "cell_type": "markdown",
   "metadata": {
    "id": "Qp13pnNzphqQ"
   },
   "source": [
    "Answer Here"
   ]
  },
  {
   "cell_type": "markdown",
   "metadata": {
    "id": "JMzcOPDDphqR"
   },
   "source": [
    "##### 3. Will the gained insights help creating a positive business impact?\n",
    "Are there any insights that lead to negative growth? Justify with specific reason."
   ]
  },
  {
   "cell_type": "markdown",
   "metadata": {
    "id": "R4Ka1PC2phqR"
   },
   "source": [
    "Answer Here"
   ]
  },
  {
   "cell_type": "markdown",
   "metadata": {
    "id": "x-EpHcCOp1ci"
   },
   "source": [
    "#### Chart - 11"
   ]
  },
  {
   "cell_type": "code",
   "execution_count": 594,
   "metadata": {
    "id": "mAQTIvtqp1cj"
   },
   "outputs": [],
   "source": [
    "# Chart - 11 visualization code"
   ]
  },
  {
   "cell_type": "markdown",
   "metadata": {
    "id": "X_VqEhTip1ck"
   },
   "source": [
    "##### 1. Why did you pick the specific chart?"
   ]
  },
  {
   "cell_type": "markdown",
   "metadata": {
    "id": "-vsMzt_np1ck"
   },
   "source": [
    "Answer Here."
   ]
  },
  {
   "cell_type": "markdown",
   "metadata": {
    "id": "8zGJKyg5p1ck"
   },
   "source": [
    "##### 2. What is/are the insight(s) found from the chart?"
   ]
  },
  {
   "cell_type": "markdown",
   "metadata": {
    "id": "ZYdMsrqVp1ck"
   },
   "source": [
    "Answer Here"
   ]
  },
  {
   "cell_type": "markdown",
   "metadata": {
    "id": "PVzmfK_Ep1ck"
   },
   "source": [
    "##### 3. Will the gained insights help creating a positive business impact?\n",
    "Are there any insights that lead to negative growth? Justify with specific reason."
   ]
  },
  {
   "cell_type": "markdown",
   "metadata": {
    "id": "druuKYZpp1ck"
   },
   "source": [
    "Answer Here"
   ]
  },
  {
   "cell_type": "markdown",
   "metadata": {
    "id": "n3dbpmDWp1ck"
   },
   "source": [
    "#### Chart - 12"
   ]
  },
  {
   "cell_type": "code",
   "execution_count": 602,
   "metadata": {
    "id": "bwevp1tKp1ck"
   },
   "outputs": [],
   "source": [
    "# Chart - 12 visualization code"
   ]
  },
  {
   "cell_type": "markdown",
   "metadata": {
    "id": "ylSl6qgtp1ck"
   },
   "source": [
    "##### 1. Why did you pick the specific chart?"
   ]
  },
  {
   "cell_type": "markdown",
   "metadata": {
    "id": "m2xqNkiQp1ck"
   },
   "source": [
    "Answer Here."
   ]
  },
  {
   "cell_type": "markdown",
   "metadata": {
    "id": "ZWILFDl5p1ck"
   },
   "source": [
    "##### 2. What is/are the insight(s) found from the chart?"
   ]
  },
  {
   "cell_type": "markdown",
   "metadata": {
    "id": "x-lUsV2mp1ck"
   },
   "source": [
    "Answer Here"
   ]
  },
  {
   "cell_type": "markdown",
   "metadata": {
    "id": "M7G43BXep1ck"
   },
   "source": [
    "##### 3. Will the gained insights help creating a positive business impact?\n",
    "Are there any insights that lead to negative growth? Justify with specific reason."
   ]
  },
  {
   "cell_type": "markdown",
   "metadata": {
    "id": "5wwDJXsLp1cl"
   },
   "source": [
    "Answer Here"
   ]
  },
  {
   "cell_type": "markdown",
   "metadata": {
    "id": "Ag9LCva-p1cl"
   },
   "source": [
    "#### Chart - 13"
   ]
  },
  {
   "cell_type": "code",
   "execution_count": 610,
   "metadata": {
    "id": "EUfxeq9-p1cl"
   },
   "outputs": [],
   "source": [
    "# Chart - 13 visualization code"
   ]
  },
  {
   "cell_type": "markdown",
   "metadata": {
    "id": "E6MkPsBcp1cl"
   },
   "source": [
    "##### 1. Why did you pick the specific chart?"
   ]
  },
  {
   "cell_type": "markdown",
   "metadata": {
    "id": "V22bRsFWp1cl"
   },
   "source": [
    "Answer Here."
   ]
  },
  {
   "cell_type": "markdown",
   "metadata": {
    "id": "2cELzS2fp1cl"
   },
   "source": [
    "##### 2. What is/are the insight(s) found from the chart?"
   ]
  },
  {
   "cell_type": "markdown",
   "metadata": {
    "id": "ozQPc2_Ip1cl"
   },
   "source": [
    "Answer Here"
   ]
  },
  {
   "cell_type": "markdown",
   "metadata": {
    "id": "3MPXvC8up1cl"
   },
   "source": [
    "##### 3. Will the gained insights help creating a positive business impact?\n",
    "Are there any insights that lead to negative growth? Justify with specific reason."
   ]
  },
  {
   "cell_type": "markdown",
   "metadata": {
    "id": "GL8l1tdLp1cl"
   },
   "source": [
    "Answer Here"
   ]
  },
  {
   "cell_type": "markdown",
   "metadata": {
    "id": "NC_X3p0fY2L0"
   },
   "source": [
    "#### Chart - 14 - Correlation Heatmap"
   ]
  },
  {
   "cell_type": "code",
   "execution_count": 618,
   "metadata": {
    "id": "xyC9zolEZNRQ"
   },
   "outputs": [],
   "source": [
    "# Correlation Heatmap visualization code"
   ]
  },
  {
   "cell_type": "markdown",
   "metadata": {
    "id": "UV0SzAkaZNRQ"
   },
   "source": [
    "##### 1. Why did you pick the specific chart?"
   ]
  },
  {
   "cell_type": "markdown",
   "metadata": {
    "id": "DVPuT8LYZNRQ"
   },
   "source": [
    "Answer Here."
   ]
  },
  {
   "cell_type": "markdown",
   "metadata": {
    "id": "YPEH6qLeZNRQ"
   },
   "source": [
    "##### 2. What is/are the insight(s) found from the chart?"
   ]
  },
  {
   "cell_type": "markdown",
   "metadata": {
    "id": "bfSqtnDqZNRR"
   },
   "source": [
    "Answer Here"
   ]
  },
  {
   "cell_type": "markdown",
   "metadata": {
    "id": "q29F0dvdveiT"
   },
   "source": [
    "#### Chart - 15 - Pair Plot"
   ]
  },
  {
   "cell_type": "code",
   "execution_count": 684,
   "metadata": {
    "id": "o58-TEIhveiU"
   },
   "outputs": [],
   "source": [
    "# Pair Plot visualization code"
   ]
  },
  {
   "cell_type": "code",
   "execution_count": null,
   "metadata": {},
   "outputs": [],
   "source": []
  },
  {
   "cell_type": "markdown",
   "metadata": {
    "id": "EXh0U9oCveiU"
   },
   "source": [
    "##### 1. Why did you pick the specific chart?"
   ]
  },
  {
   "cell_type": "markdown",
   "metadata": {
    "id": "eMmPjTByveiU"
   },
   "source": [
    "Answer Here."
   ]
  },
  {
   "cell_type": "markdown",
   "metadata": {
    "id": "22aHeOlLveiV"
   },
   "source": [
    "##### 2. What is/are the insight(s) found from the chart?"
   ]
  },
  {
   "cell_type": "markdown",
   "metadata": {
    "id": "uPQ8RGwHveiV"
   },
   "source": [
    "Answer Here"
   ]
  },
  {
   "cell_type": "markdown",
   "metadata": {
    "id": "JcMwzZxoAimU"
   },
   "source": [
    "## **5. Solution to Business Objective**"
   ]
  },
  {
   "cell_type": "markdown",
   "metadata": {
    "id": "8G2x9gOozGDZ"
   },
   "source": [
    "#### What do you suggest the client to achieve Business Objective ?\n",
    "Explain Briefly."
   ]
  },
  {
   "cell_type": "markdown",
   "metadata": {
    "id": "pASKb0qOza21"
   },
   "source": [
    " Business Objective\n",
    "Assume the client wants to improve content recommendations, increase user engagement, or identify viewer segments for targeted marketing.\n",
    "\n",
    "Suggested Solution\n",
    "1. Cluster Content Based on Attributes\n",
    "Use clustering algorithms (like K-Means or Hierarchical Clustering) on features such as genre, duration, rating, type (Movie/TV Show), and release year to group similar content. This helps:\n",
    "\n",
    "Identify popular content types.\n",
    "\n",
    "Understand which categories are underrepresented or overrepresented.\n",
    "\n",
    "2. Segment Viewers Based on Preferences\n",
    "If user viewing data is available, cluster users by watching patterns to offer personalized content, boosting retention.\n",
    "\n",
    "3. Improve Recommendation System\n",
    "Integrate the clustering output into a content-based filtering model, where recommendations are drawn from the same cluster as the content a user has already liked.\n",
    "\n",
    "4. Targeted Marketing Campaigns\n",
    "Once clusters of content or users are created, craft marketing strategies for each segment (e.g., nostalgia for older content, thrillers for a specific age group)."
   ]
  },
  {
   "cell_type": "markdown",
   "metadata": {
    "id": "gCX9965dhzqZ"
   },
   "source": [
    "# **Conclusion**"
   ]
  },
  {
   "cell_type": "markdown",
   "metadata": {
    "id": "Fjb1IsQkh3yE"
   },
   "source": [
    "By applying clustering techniques to the Netflix Movies and TV Shows dataset, we can uncover hidden patterns in content attributes such as genre, type, release year, and duration. These insights enable Netflix (or a similar streaming platform) to:\n",
    "\n",
    "Organize content into meaningful groups for better recommendation systems.\n",
    "\n",
    "Understand viewer preferences to personalize the user experience.\n",
    "\n",
    "Design targeted marketing strategies based on content clusters.\n",
    "\n",
    "Identify content gaps and make informed production or acquisition decisions.\n",
    "\n",
    "Overall, clustering enhances data-driven decision-making, improves user engagement, and supports the business objective of increasing viewer satisfaction and platform retention."
   ]
  },
  {
   "cell_type": "markdown",
   "metadata": {
    "id": "gIfDvo9L0UH2"
   },
   "source": [
    "### ***Hurrah! You have successfully completed your EDA Capstone Project !!!***"
   ]
  },
  {
   "cell_type": "code",
   "execution_count": null,
   "metadata": {
    "id": "dYX880etpL0x"
   },
   "outputs": [],
   "source": []
  },
  {
   "cell_type": "code",
   "execution_count": null,
   "metadata": {
    "id": "-6Vl263upPVI"
   },
   "outputs": [],
   "source": []
  }
 ],
 "metadata": {
  "colab": {
   "collapsed_sections": [
    "vncDsAP0Gaoa",
    "FJNUwmbgGyua",
    "w6K7xa23Elo4",
    "yQaldy8SH6Dl",
    "PH-0ReGfmX4f",
    "mDgbUHAGgjLW",
    "O_i_v8NEhb9l",
    "HhfV-JJviCcP",
    "Y3lxredqlCYt",
    "3RnN4peoiCZX",
    "x71ZqKXriCWQ",
    "7hBIi_osiCS2",
    "JlHwYmJAmNHm",
    "35m5QtbWiB9F",
    "PoPl-ycgm1ru",
    "H0kj-8xxnORC",
    "nA9Y7ga8ng1Z",
    "PBTbrJXOngz2",
    "u3PMJOP6ngxN",
    "dauF4eBmngu3",
    "bKJF3rekwFvQ",
    "MSa1f5Uengrz",
    "GF8Ens_Soomf",
    "0wOQAZs5pc--",
    "K5QZ13OEpz2H",
    "lQ7QKXXCp7Bj",
    "448CDAPjqfQr",
    "KSlN3yHqYklG",
    "t6dVpIINYklI",
    "ijmpgYnKYklI",
    "-JiQyfWJYklI",
    "EM7whBJCYoAo",
    "fge-S5ZAYoAp",
    "85gYPyotYoAp",
    "RoGjAbkUYoAp",
    "4Of9eVA-YrdM",
    "iky9q4vBYrdO",
    "F6T5p64dYrdO",
    "y-Ehk30pYrdP",
    "bamQiAODYuh1",
    "QHF8YVU7Yuh3",
    "GwzvFGzlYuh3",
    "qYpmQ266Yuh3",
    "OH-pJp9IphqM",
    "bbFf2-_FphqN",
    "_ouA3fa0phqN",
    "Seke61FWphqN",
    "PIIx-8_IphqN",
    "t27r6nlMphqO",
    "r2jJGEOYphqO",
    "b0JNsNcRphqO",
    "BZR9WyysphqO",
    "jj7wYXLtphqO",
    "eZrbJ2SmphqO",
    "rFu4xreNphqO",
    "YJ55k-q6phqO",
    "gCFgpxoyphqP",
    "OVtJsKN_phqQ",
    "lssrdh5qphqQ",
    "U2RJ9gkRphqQ",
    "1M8mcRywphqQ",
    "tgIPom80phqQ",
    "JMzcOPDDphqR",
    "x-EpHcCOp1ci",
    "X_VqEhTip1ck",
    "8zGJKyg5p1ck",
    "PVzmfK_Ep1ck",
    "n3dbpmDWp1ck",
    "ylSl6qgtp1ck",
    "ZWILFDl5p1ck",
    "M7G43BXep1ck",
    "Ag9LCva-p1cl",
    "E6MkPsBcp1cl",
    "2cELzS2fp1cl",
    "3MPXvC8up1cl",
    "NC_X3p0fY2L0",
    "UV0SzAkaZNRQ",
    "YPEH6qLeZNRQ",
    "q29F0dvdveiT",
    "EXh0U9oCveiU",
    "22aHeOlLveiV",
    "JcMwzZxoAimU",
    "8G2x9gOozGDZ",
    "gCX9965dhzqZ",
    "gIfDvo9L0UH2"
   ],
   "private_outputs": true,
   "provenance": []
  },
  "kernelspec": {
   "display_name": "Python [conda env:base] *",
   "language": "python",
   "name": "conda-base-py"
  },
  "language_info": {
   "codemirror_mode": {
    "name": "ipython",
    "version": 3
   },
   "file_extension": ".py",
   "mimetype": "text/x-python",
   "name": "python",
   "nbconvert_exporter": "python",
   "pygments_lexer": "ipython3",
   "version": "3.12.7"
  }
 },
 "nbformat": 4,
 "nbformat_minor": 4
}
