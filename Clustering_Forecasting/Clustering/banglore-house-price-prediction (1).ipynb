{
 "cells": [
  {
   "cell_type": "code",
   "execution_count": 96,
   "id": "introductory-citation",
   "metadata": {
    "_cell_guid": "b1076dfc-b9ad-4769-8c92-a6c4dae69d19",
    "_uuid": "8f2839f25d086af736a60e9eeb907d3b93b6e0e5",
    "papermill": {
     "duration": 0.076263,
     "end_time": "2021-11-04T08:20:51.006155",
     "exception": false,
     "start_time": "2021-11-04T08:20:50.929892",
     "status": "completed"
    },
    "tags": []
   },
   "outputs": [],
   "source": [
    "\n",
    "\n",
    "import numpy as np # linear algebra\n",
    "import pandas as pd # data processing, CSV file I/O (e.g. pd.read_csv)\n",
    "\n",
    "# Input data files are available in the read-only \"../input/\" directory\n",
    "# For example, running this (by clicking run or pressing Shift+Enter) will list all files under the input directory\n",
    "\n",
    "\n"
   ]
  },
  {
   "cell_type": "markdown",
   "id": "passive-forwarding",
   "metadata": {
    "papermill": {
     "duration": 0.0523,
     "end_time": "2021-11-04T08:20:51.112842",
     "exception": false,
     "start_time": "2021-11-04T08:20:51.060542",
     "status": "completed"
    },
    "tags": []
   },
   "source": [
    "# Data Loading"
   ]
  },
  {
   "cell_type": "code",
   "execution_count": 94,
   "id": "silver-sherman",
   "metadata": {
    "papermill": {
     "duration": 0.142033,
     "end_time": "2021-11-04T08:20:51.307512",
     "exception": false,
     "start_time": "2021-11-04T08:20:51.165479",
     "status": "completed"
    },
    "tags": []
   },
   "outputs": [
    {
     "ename": "FileNotFoundError",
     "evalue": "[Errno 2] No such file or directory: '.csvBengaluru_House_Data'",
     "output_type": "error",
     "traceback": [
      "\u001b[1;31m---------------------------------------------------------------------------\u001b[0m",
      "\u001b[1;31mFileNotFoundError\u001b[0m                         Traceback (most recent call last)",
      "Cell \u001b[1;32mIn[94], line 1\u001b[0m\n\u001b[1;32m----> 1\u001b[0m data\u001b[38;5;241m=\u001b[39mpd\u001b[38;5;241m.\u001b[39mread_csv(\u001b[38;5;124m'\u001b[39m\u001b[38;5;124m.csvBengaluru_House_Data\u001b[39m\u001b[38;5;124m'\u001b[39m)\n\u001b[0;32m      2\u001b[0m data\n",
      "File \u001b[1;32m~\\anaconda3\\Lib\\site-packages\\pandas\\io\\parsers\\readers.py:1026\u001b[0m, in \u001b[0;36mread_csv\u001b[1;34m(filepath_or_buffer, sep, delimiter, header, names, index_col, usecols, dtype, engine, converters, true_values, false_values, skipinitialspace, skiprows, skipfooter, nrows, na_values, keep_default_na, na_filter, verbose, skip_blank_lines, parse_dates, infer_datetime_format, keep_date_col, date_parser, date_format, dayfirst, cache_dates, iterator, chunksize, compression, thousands, decimal, lineterminator, quotechar, quoting, doublequote, escapechar, comment, encoding, encoding_errors, dialect, on_bad_lines, delim_whitespace, low_memory, memory_map, float_precision, storage_options, dtype_backend)\u001b[0m\n\u001b[0;32m   1013\u001b[0m kwds_defaults \u001b[38;5;241m=\u001b[39m _refine_defaults_read(\n\u001b[0;32m   1014\u001b[0m     dialect,\n\u001b[0;32m   1015\u001b[0m     delimiter,\n\u001b[1;32m   (...)\u001b[0m\n\u001b[0;32m   1022\u001b[0m     dtype_backend\u001b[38;5;241m=\u001b[39mdtype_backend,\n\u001b[0;32m   1023\u001b[0m )\n\u001b[0;32m   1024\u001b[0m kwds\u001b[38;5;241m.\u001b[39mupdate(kwds_defaults)\n\u001b[1;32m-> 1026\u001b[0m \u001b[38;5;28;01mreturn\u001b[39;00m _read(filepath_or_buffer, kwds)\n",
      "File \u001b[1;32m~\\anaconda3\\Lib\\site-packages\\pandas\\io\\parsers\\readers.py:620\u001b[0m, in \u001b[0;36m_read\u001b[1;34m(filepath_or_buffer, kwds)\u001b[0m\n\u001b[0;32m    617\u001b[0m _validate_names(kwds\u001b[38;5;241m.\u001b[39mget(\u001b[38;5;124m\"\u001b[39m\u001b[38;5;124mnames\u001b[39m\u001b[38;5;124m\"\u001b[39m, \u001b[38;5;28;01mNone\u001b[39;00m))\n\u001b[0;32m    619\u001b[0m \u001b[38;5;66;03m# Create the parser.\u001b[39;00m\n\u001b[1;32m--> 620\u001b[0m parser \u001b[38;5;241m=\u001b[39m TextFileReader(filepath_or_buffer, \u001b[38;5;241m*\u001b[39m\u001b[38;5;241m*\u001b[39mkwds)\n\u001b[0;32m    622\u001b[0m \u001b[38;5;28;01mif\u001b[39;00m chunksize \u001b[38;5;129;01mor\u001b[39;00m iterator:\n\u001b[0;32m    623\u001b[0m     \u001b[38;5;28;01mreturn\u001b[39;00m parser\n",
      "File \u001b[1;32m~\\anaconda3\\Lib\\site-packages\\pandas\\io\\parsers\\readers.py:1620\u001b[0m, in \u001b[0;36mTextFileReader.__init__\u001b[1;34m(self, f, engine, **kwds)\u001b[0m\n\u001b[0;32m   1617\u001b[0m     \u001b[38;5;28mself\u001b[39m\u001b[38;5;241m.\u001b[39moptions[\u001b[38;5;124m\"\u001b[39m\u001b[38;5;124mhas_index_names\u001b[39m\u001b[38;5;124m\"\u001b[39m] \u001b[38;5;241m=\u001b[39m kwds[\u001b[38;5;124m\"\u001b[39m\u001b[38;5;124mhas_index_names\u001b[39m\u001b[38;5;124m\"\u001b[39m]\n\u001b[0;32m   1619\u001b[0m \u001b[38;5;28mself\u001b[39m\u001b[38;5;241m.\u001b[39mhandles: IOHandles \u001b[38;5;241m|\u001b[39m \u001b[38;5;28;01mNone\u001b[39;00m \u001b[38;5;241m=\u001b[39m \u001b[38;5;28;01mNone\u001b[39;00m\n\u001b[1;32m-> 1620\u001b[0m \u001b[38;5;28mself\u001b[39m\u001b[38;5;241m.\u001b[39m_engine \u001b[38;5;241m=\u001b[39m \u001b[38;5;28mself\u001b[39m\u001b[38;5;241m.\u001b[39m_make_engine(f, \u001b[38;5;28mself\u001b[39m\u001b[38;5;241m.\u001b[39mengine)\n",
      "File \u001b[1;32m~\\anaconda3\\Lib\\site-packages\\pandas\\io\\parsers\\readers.py:1880\u001b[0m, in \u001b[0;36mTextFileReader._make_engine\u001b[1;34m(self, f, engine)\u001b[0m\n\u001b[0;32m   1878\u001b[0m     \u001b[38;5;28;01mif\u001b[39;00m \u001b[38;5;124m\"\u001b[39m\u001b[38;5;124mb\u001b[39m\u001b[38;5;124m\"\u001b[39m \u001b[38;5;129;01mnot\u001b[39;00m \u001b[38;5;129;01min\u001b[39;00m mode:\n\u001b[0;32m   1879\u001b[0m         mode \u001b[38;5;241m+\u001b[39m\u001b[38;5;241m=\u001b[39m \u001b[38;5;124m\"\u001b[39m\u001b[38;5;124mb\u001b[39m\u001b[38;5;124m\"\u001b[39m\n\u001b[1;32m-> 1880\u001b[0m \u001b[38;5;28mself\u001b[39m\u001b[38;5;241m.\u001b[39mhandles \u001b[38;5;241m=\u001b[39m get_handle(\n\u001b[0;32m   1881\u001b[0m     f,\n\u001b[0;32m   1882\u001b[0m     mode,\n\u001b[0;32m   1883\u001b[0m     encoding\u001b[38;5;241m=\u001b[39m\u001b[38;5;28mself\u001b[39m\u001b[38;5;241m.\u001b[39moptions\u001b[38;5;241m.\u001b[39mget(\u001b[38;5;124m\"\u001b[39m\u001b[38;5;124mencoding\u001b[39m\u001b[38;5;124m\"\u001b[39m, \u001b[38;5;28;01mNone\u001b[39;00m),\n\u001b[0;32m   1884\u001b[0m     compression\u001b[38;5;241m=\u001b[39m\u001b[38;5;28mself\u001b[39m\u001b[38;5;241m.\u001b[39moptions\u001b[38;5;241m.\u001b[39mget(\u001b[38;5;124m\"\u001b[39m\u001b[38;5;124mcompression\u001b[39m\u001b[38;5;124m\"\u001b[39m, \u001b[38;5;28;01mNone\u001b[39;00m),\n\u001b[0;32m   1885\u001b[0m     memory_map\u001b[38;5;241m=\u001b[39m\u001b[38;5;28mself\u001b[39m\u001b[38;5;241m.\u001b[39moptions\u001b[38;5;241m.\u001b[39mget(\u001b[38;5;124m\"\u001b[39m\u001b[38;5;124mmemory_map\u001b[39m\u001b[38;5;124m\"\u001b[39m, \u001b[38;5;28;01mFalse\u001b[39;00m),\n\u001b[0;32m   1886\u001b[0m     is_text\u001b[38;5;241m=\u001b[39mis_text,\n\u001b[0;32m   1887\u001b[0m     errors\u001b[38;5;241m=\u001b[39m\u001b[38;5;28mself\u001b[39m\u001b[38;5;241m.\u001b[39moptions\u001b[38;5;241m.\u001b[39mget(\u001b[38;5;124m\"\u001b[39m\u001b[38;5;124mencoding_errors\u001b[39m\u001b[38;5;124m\"\u001b[39m, \u001b[38;5;124m\"\u001b[39m\u001b[38;5;124mstrict\u001b[39m\u001b[38;5;124m\"\u001b[39m),\n\u001b[0;32m   1888\u001b[0m     storage_options\u001b[38;5;241m=\u001b[39m\u001b[38;5;28mself\u001b[39m\u001b[38;5;241m.\u001b[39moptions\u001b[38;5;241m.\u001b[39mget(\u001b[38;5;124m\"\u001b[39m\u001b[38;5;124mstorage_options\u001b[39m\u001b[38;5;124m\"\u001b[39m, \u001b[38;5;28;01mNone\u001b[39;00m),\n\u001b[0;32m   1889\u001b[0m )\n\u001b[0;32m   1890\u001b[0m \u001b[38;5;28;01massert\u001b[39;00m \u001b[38;5;28mself\u001b[39m\u001b[38;5;241m.\u001b[39mhandles \u001b[38;5;129;01mis\u001b[39;00m \u001b[38;5;129;01mnot\u001b[39;00m \u001b[38;5;28;01mNone\u001b[39;00m\n\u001b[0;32m   1891\u001b[0m f \u001b[38;5;241m=\u001b[39m \u001b[38;5;28mself\u001b[39m\u001b[38;5;241m.\u001b[39mhandles\u001b[38;5;241m.\u001b[39mhandle\n",
      "File \u001b[1;32m~\\anaconda3\\Lib\\site-packages\\pandas\\io\\common.py:873\u001b[0m, in \u001b[0;36mget_handle\u001b[1;34m(path_or_buf, mode, encoding, compression, memory_map, is_text, errors, storage_options)\u001b[0m\n\u001b[0;32m    868\u001b[0m \u001b[38;5;28;01melif\u001b[39;00m \u001b[38;5;28misinstance\u001b[39m(handle, \u001b[38;5;28mstr\u001b[39m):\n\u001b[0;32m    869\u001b[0m     \u001b[38;5;66;03m# Check whether the filename is to be opened in binary mode.\u001b[39;00m\n\u001b[0;32m    870\u001b[0m     \u001b[38;5;66;03m# Binary mode does not support 'encoding' and 'newline'.\u001b[39;00m\n\u001b[0;32m    871\u001b[0m     \u001b[38;5;28;01mif\u001b[39;00m ioargs\u001b[38;5;241m.\u001b[39mencoding \u001b[38;5;129;01mand\u001b[39;00m \u001b[38;5;124m\"\u001b[39m\u001b[38;5;124mb\u001b[39m\u001b[38;5;124m\"\u001b[39m \u001b[38;5;129;01mnot\u001b[39;00m \u001b[38;5;129;01min\u001b[39;00m ioargs\u001b[38;5;241m.\u001b[39mmode:\n\u001b[0;32m    872\u001b[0m         \u001b[38;5;66;03m# Encoding\u001b[39;00m\n\u001b[1;32m--> 873\u001b[0m         handle \u001b[38;5;241m=\u001b[39m \u001b[38;5;28mopen\u001b[39m(\n\u001b[0;32m    874\u001b[0m             handle,\n\u001b[0;32m    875\u001b[0m             ioargs\u001b[38;5;241m.\u001b[39mmode,\n\u001b[0;32m    876\u001b[0m             encoding\u001b[38;5;241m=\u001b[39mioargs\u001b[38;5;241m.\u001b[39mencoding,\n\u001b[0;32m    877\u001b[0m             errors\u001b[38;5;241m=\u001b[39merrors,\n\u001b[0;32m    878\u001b[0m             newline\u001b[38;5;241m=\u001b[39m\u001b[38;5;124m\"\u001b[39m\u001b[38;5;124m\"\u001b[39m,\n\u001b[0;32m    879\u001b[0m         )\n\u001b[0;32m    880\u001b[0m     \u001b[38;5;28;01melse\u001b[39;00m:\n\u001b[0;32m    881\u001b[0m         \u001b[38;5;66;03m# Binary mode\u001b[39;00m\n\u001b[0;32m    882\u001b[0m         handle \u001b[38;5;241m=\u001b[39m \u001b[38;5;28mopen\u001b[39m(handle, ioargs\u001b[38;5;241m.\u001b[39mmode)\n",
      "\u001b[1;31mFileNotFoundError\u001b[0m: [Errno 2] No such file or directory: '.csvBengaluru_House_Data'"
     ]
    }
   ],
   "source": [
    "data=pd.read_csv('Bengaluru_House_Data')\n"
   ]
  },
  {
   "cell_type": "code",
   "execution_count": null,
   "id": "focused-mistake",
   "metadata": {
    "papermill": {
     "duration": 0.099746,
     "end_time": "2021-11-04T08:20:51.476916",
     "exception": false,
     "start_time": "2021-11-04T08:20:51.377170",
     "status": "completed"
    },
    "tags": []
   },
   "outputs": [],
   "source": [
    "data.info()"
   ]
  },
  {
   "cell_type": "code",
   "execution_count": null,
   "id": "communist-charter",
   "metadata": {
    "papermill": {
     "duration": 0.064211,
     "end_time": "2021-11-04T08:20:51.595254",
     "exception": false,
     "start_time": "2021-11-04T08:20:51.531043",
     "status": "completed"
    },
    "tags": []
   },
   "outputs": [],
   "source": [
    "data.columns"
   ]
  },
  {
   "cell_type": "markdown",
   "id": "detailed-gather",
   "metadata": {
    "papermill": {
     "duration": 0.05376,
     "end_time": "2021-11-04T08:20:51.703586",
     "exception": false,
     "start_time": "2021-11-04T08:20:51.649826",
     "status": "completed"
    },
    "tags": []
   },
   "source": [
    "# Data Cleaning"
   ]
  },
  {
   "cell_type": "code",
   "execution_count": null,
   "id": "noted-robertson",
   "metadata": {
    "papermill": {
     "duration": 0.077875,
     "end_time": "2021-11-04T08:20:51.835106",
     "exception": false,
     "start_time": "2021-11-04T08:20:51.757231",
     "status": "completed"
    },
    "tags": []
   },
   "outputs": [],
   "source": [
    "data=data.drop(['area_type','availability','balcony','society'],axis=1)\n",
    "data"
   ]
  },
  {
   "cell_type": "code",
   "execution_count": null,
   "id": "equal-yugoslavia",
   "metadata": {
    "papermill": {
     "duration": 0.072482,
     "end_time": "2021-11-04T08:20:51.964023",
     "exception": false,
     "start_time": "2021-11-04T08:20:51.891541",
     "status": "completed"
    },
    "tags": []
   },
   "outputs": [],
   "source": [
    "data.isna().sum()"
   ]
  },
  {
   "cell_type": "code",
   "execution_count": null,
   "id": "extensive-camping",
   "metadata": {
    "papermill": {
     "duration": 0.088885,
     "end_time": "2021-11-04T08:20:52.109371",
     "exception": false,
     "start_time": "2021-11-04T08:20:52.020486",
     "status": "completed"
    },
    "tags": []
   },
   "outputs": [],
   "source": [
    "data=data.dropna()"
   ]
  },
  {
   "cell_type": "code",
   "execution_count": null,
   "id": "opposed-incentive",
   "metadata": {
    "papermill": {
     "duration": 0.071635,
     "end_time": "2021-11-04T08:20:52.235767",
     "exception": false,
     "start_time": "2021-11-04T08:20:52.164132",
     "status": "completed"
    },
    "tags": []
   },
   "outputs": [],
   "source": [
    "data.isna().sum()"
   ]
  },
  {
   "cell_type": "code",
   "execution_count": null,
   "id": "ranging-liberia",
   "metadata": {
    "papermill": {
     "duration": 0.065682,
     "end_time": "2021-11-04T08:20:52.357715",
     "exception": false,
     "start_time": "2021-11-04T08:20:52.292033",
     "status": "completed"
    },
    "tags": []
   },
   "outputs": [],
   "source": [
    "data.shape"
   ]
  },
  {
   "cell_type": "code",
   "execution_count": null,
   "id": "reliable-treatment",
   "metadata": {
    "papermill": {
     "duration": 0.065275,
     "end_time": "2021-11-04T08:20:52.478604",
     "exception": false,
     "start_time": "2021-11-04T08:20:52.413329",
     "status": "completed"
    },
    "tags": []
   },
   "outputs": [],
   "source": [
    "data['size'].unique()"
   ]
  },
  {
   "cell_type": "markdown",
   "id": "qualified-birth",
   "metadata": {
    "papermill": {
     "duration": 0.054954,
     "end_time": "2021-11-04T08:20:52.590229",
     "exception": false,
     "start_time": "2021-11-04T08:20:52.535275",
     "status": "completed"
    },
    "tags": []
   },
   "source": [
    "\n",
    "# Feature Engineering\n",
    "**Add new feature(integer) for bhk (Bedrooms Hall Kitchen)**"
   ]
  },
  {
   "cell_type": "code",
   "execution_count": null,
   "id": "equivalent-designation",
   "metadata": {
    "papermill": {
     "duration": 0.081069,
     "end_time": "2021-11-04T08:20:52.727049",
     "exception": false,
     "start_time": "2021-11-04T08:20:52.645980",
     "status": "completed"
    },
    "tags": []
   },
   "outputs": [],
   "source": [
    "data['BHK']=data['size'].apply(lambda x: int(x.split(' ')[0]))"
   ]
  },
  {
   "cell_type": "code",
   "execution_count": null,
   "id": "powerful-alias",
   "metadata": {
    "papermill": {
     "duration": 0.072508,
     "end_time": "2021-11-04T08:20:52.856644",
     "exception": false,
     "start_time": "2021-11-04T08:20:52.784136",
     "status": "completed"
    },
    "tags": []
   },
   "outputs": [],
   "source": [
    "data.head()"
   ]
  },
  {
   "cell_type": "code",
   "execution_count": null,
   "id": "motivated-elements",
   "metadata": {
    "papermill": {
     "duration": 0.070539,
     "end_time": "2021-11-04T08:20:52.985081",
     "exception": false,
     "start_time": "2021-11-04T08:20:52.914542",
     "status": "completed"
    },
    "tags": []
   },
   "outputs": [],
   "source": [
    "data['BHK'].unique()"
   ]
  },
  {
   "cell_type": "code",
   "execution_count": null,
   "id": "colored-upset",
   "metadata": {
    "papermill": {
     "duration": 0.074471,
     "end_time": "2021-11-04T08:20:53.119476",
     "exception": false,
     "start_time": "2021-11-04T08:20:53.045005",
     "status": "completed"
    },
    "tags": []
   },
   "outputs": [],
   "source": [
    "data[data.BHK>20]"
   ]
  },
  {
   "cell_type": "code",
   "execution_count": null,
   "id": "atomic-swiss",
   "metadata": {
    "papermill": {
     "duration": 0.067329,
     "end_time": "2021-11-04T08:20:53.244482",
     "exception": false,
     "start_time": "2021-11-04T08:20:53.177153",
     "status": "completed"
    },
    "tags": []
   },
   "outputs": [],
   "source": [
    "data.total_sqft.unique()"
   ]
  },
  {
   "cell_type": "code",
   "execution_count": null,
   "id": "integrated-directive",
   "metadata": {
    "papermill": {
     "duration": 0.066139,
     "end_time": "2021-11-04T08:20:53.369324",
     "exception": false,
     "start_time": "2021-11-04T08:20:53.303185",
     "status": "completed"
    },
    "tags": []
   },
   "outputs": [],
   "source": [
    "def isfloat(x):\n",
    "    try:\n",
    "        float(x)\n",
    "    except:\n",
    "        return False\n",
    "    return True"
   ]
  },
  {
   "cell_type": "code",
   "execution_count": null,
   "id": "broke-blocking",
   "metadata": {
    "papermill": {
     "duration": 0.084994,
     "end_time": "2021-11-04T08:20:53.512192",
     "exception": false,
     "start_time": "2021-11-04T08:20:53.427198",
     "status": "completed"
    },
    "tags": []
   },
   "outputs": [],
   "source": [
    "data[~data['total_sqft'].apply(isfloat)].head(10)"
   ]
  },
  {
   "cell_type": "code",
   "execution_count": null,
   "id": "critical-somewhere",
   "metadata": {
    "papermill": {
     "duration": 0.066541,
     "end_time": "2021-11-04T08:20:53.638134",
     "exception": false,
     "start_time": "2021-11-04T08:20:53.571593",
     "status": "completed"
    },
    "tags": []
   },
   "outputs": [],
   "source": [
    "def convert_sqft_tonum(x):\n",
    "    token=x.split('-')\n",
    "    if len(token)==2:\n",
    "        return (float(token[0])+float(token[1]))/2\n",
    "    try:\n",
    "        return float(x)\n",
    "    except:\n",
    "        return None"
   ]
  },
  {
   "cell_type": "code",
   "execution_count": null,
   "id": "touched-party",
   "metadata": {
    "papermill": {
     "duration": 0.080538,
     "end_time": "2021-11-04T08:20:53.777501",
     "exception": false,
     "start_time": "2021-11-04T08:20:53.696963",
     "status": "completed"
    },
    "tags": []
   },
   "outputs": [],
   "source": [
    "data=data.copy()\n",
    "data['total_sqft']=data['total_sqft'].apply(convert_sqft_tonum)"
   ]
  },
  {
   "cell_type": "code",
   "execution_count": null,
   "id": "alive-racing",
   "metadata": {
    "papermill": {
     "duration": 0.079352,
     "end_time": "2021-11-04T08:20:53.916157",
     "exception": false,
     "start_time": "2021-11-04T08:20:53.836805",
     "status": "completed"
    },
    "tags": []
   },
   "outputs": [],
   "source": [
    "data.head(10)"
   ]
  },
  {
   "cell_type": "code",
   "execution_count": null,
   "id": "twenty-slovak",
   "metadata": {
    "papermill": {
     "duration": 0.071222,
     "end_time": "2021-11-04T08:20:54.045702",
     "exception": false,
     "start_time": "2021-11-04T08:20:53.974480",
     "status": "completed"
    },
    "tags": []
   },
   "outputs": [],
   "source": [
    "data.loc[30]"
   ]
  },
  {
   "cell_type": "code",
   "execution_count": null,
   "id": "aac41384-6c40-4610-b5d0-629d8808a48d",
   "metadata": {},
   "outputs": [],
   "source": [
    "mean_price = data['price'].mean()\n",
    "print(\"Mean Price:\", mean_price)"
   ]
  },
  {
   "cell_type": "markdown",
   "id": "experienced-flexibility",
   "metadata": {
    "papermill": {
     "duration": 0.058977,
     "end_time": "2021-11-04T08:20:54.163049",
     "exception": false,
     "start_time": "2021-11-04T08:20:54.104072",
     "status": "completed"
    },
    "tags": []
   },
   "source": [
    "# Feature Engineering\n",
    "**Add new feature called price per square feet**"
   ]
  },
  {
   "cell_type": "code",
   "execution_count": null,
   "id": "certain-things",
   "metadata": {
    "papermill": {
     "duration": 0.108095,
     "end_time": "2021-11-04T08:20:54.329855",
     "exception": false,
     "start_time": "2021-11-04T08:20:54.221760",
     "status": "completed"
    },
    "tags": []
   },
   "outputs": [],
   "source": [
    "data1=data.copy()\n",
    "data1['price_per_sqft']=data1['price']*1000000/data1['total_sqft']\n",
    "data1.head()"
   ]
  },
  {
   "cell_type": "code",
   "execution_count": null,
   "id": "closing-destruction",
   "metadata": {
    "papermill": {
     "duration": 0.086327,
     "end_time": "2021-11-04T08:20:54.479036",
     "exception": false,
     "start_time": "2021-11-04T08:20:54.392709",
     "status": "completed"
    },
    "tags": []
   },
   "outputs": [],
   "source": [
    "len(data1.location.unique())"
   ]
  },
  {
   "cell_type": "code",
   "execution_count": null,
   "id": "architectural-suffering",
   "metadata": {
    "papermill": {
     "duration": 0.101392,
     "end_time": "2021-11-04T08:20:54.643879",
     "exception": false,
     "start_time": "2021-11-04T08:20:54.542487",
     "status": "completed"
    },
    "tags": []
   },
   "outputs": [],
   "source": [
    "data1.location=data1.location.apply(lambda x: x.strip())\n",
    "location_stats=data1.groupby('location')['location'].agg('count').sort_values(ascending=False)\n",
    "location_stats"
   ]
  },
  {
   "cell_type": "code",
   "execution_count": null,
   "id": "preceding-responsibility",
   "metadata": {
    "papermill": {
     "duration": 0.072242,
     "end_time": "2021-11-04T08:20:54.781685",
     "exception": false,
     "start_time": "2021-11-04T08:20:54.709443",
     "status": "completed"
    },
    "tags": []
   },
   "outputs": [],
   "source": [
    "len(location_stats[location_stats<=10])"
   ]
  },
  {
   "cell_type": "code",
   "execution_count": null,
   "id": "moved-microwave",
   "metadata": {
    "papermill": {
     "duration": 0.074827,
     "end_time": "2021-11-04T08:20:54.916827",
     "exception": false,
     "start_time": "2021-11-04T08:20:54.842000",
     "status": "completed"
    },
    "tags": []
   },
   "outputs": [],
   "source": [
    "locationlessthan10=location_stats[location_stats<=10]\n",
    "locationlessthan10"
   ]
  },
  {
   "cell_type": "code",
   "execution_count": null,
   "id": "alpha-washer",
   "metadata": {
    "papermill": {
     "duration": 0.074157,
     "end_time": "2021-11-04T08:20:55.051573",
     "exception": false,
     "start_time": "2021-11-04T08:20:54.977416",
     "status": "completed"
    },
    "tags": []
   },
   "outputs": [],
   "source": [
    "len(data1.location.unique())"
   ]
  },
  {
   "cell_type": "code",
   "execution_count": null,
   "id": "pharmaceutical-denmark",
   "metadata": {
    "papermill": {
     "duration": 0.095576,
     "end_time": "2021-11-04T08:20:55.207696",
     "exception": false,
     "start_time": "2021-11-04T08:20:55.112120",
     "status": "completed"
    },
    "tags": []
   },
   "outputs": [],
   "source": [
    "data1.location=data1.location.apply(lambda x: 'other' if x in locationlessthan10 else x)\n",
    "len(data1.location.unique())"
   ]
  },
  {
   "cell_type": "code",
   "execution_count": null,
   "id": "weighted-browser",
   "metadata": {
    "papermill": {
     "duration": 0.083245,
     "end_time": "2021-11-04T08:20:55.353381",
     "exception": false,
     "start_time": "2021-11-04T08:20:55.270136",
     "status": "completed"
    },
    "tags": []
   },
   "outputs": [],
   "source": [
    "data1.head(10)"
   ]
  },
  {
   "cell_type": "code",
   "execution_count": null,
   "id": "wicked-incidence",
   "metadata": {
    "papermill": {
     "duration": 0.084384,
     "end_time": "2021-11-04T08:20:55.499723",
     "exception": false,
     "start_time": "2021-11-04T08:20:55.415339",
     "status": "completed"
    },
    "tags": []
   },
   "outputs": [],
   "source": [
    "data1[data1.total_sqft/data1.BHK<300].head()"
   ]
  },
  {
   "cell_type": "code",
   "execution_count": null,
   "id": "sunrise-performance",
   "metadata": {
    "papermill": {
     "duration": 0.08688,
     "end_time": "2021-11-04T08:20:55.649914",
     "exception": false,
     "start_time": "2021-11-04T08:20:55.563034",
     "status": "completed"
    },
    "tags": []
   },
   "outputs": [],
   "source": [
    "data2=data1[~(data1.total_sqft/data1.BHK<300)]\n",
    "data2.head(10)"
   ]
  },
  {
   "cell_type": "code",
   "execution_count": null,
   "id": "neural-antarctica",
   "metadata": {
    "papermill": {
     "duration": 0.07179,
     "end_time": "2021-11-04T08:20:55.786023",
     "exception": false,
     "start_time": "2021-11-04T08:20:55.714233",
     "status": "completed"
    },
    "tags": []
   },
   "outputs": [],
   "source": [
    "data2.shape"
   ]
  },
  {
   "cell_type": "markdown",
   "id": "industrial-place",
   "metadata": {
    "papermill": {
     "duration": 0.06293,
     "end_time": "2021-11-04T08:20:55.911907",
     "exception": false,
     "start_time": "2021-11-04T08:20:55.848977",
     "status": "completed"
    },
    "tags": []
   },
   "source": [
    "# Outlier Removal Using Standard Deviation and Mean"
   ]
  },
  {
   "cell_type": "code",
   "execution_count": null,
   "id": "virtual-distributor",
   "metadata": {
    "papermill": {
     "duration": 0.081419,
     "end_time": "2021-11-04T08:20:56.058474",
     "exception": false,
     "start_time": "2021-11-04T08:20:55.977055",
     "status": "completed"
    },
    "tags": []
   },
   "outputs": [],
   "source": [
    "data2[\"price_per_sqft\"].describe().apply(lambda x:format(x,'f'))"
   ]
  },
  {
   "cell_type": "code",
   "execution_count": null,
   "id": "checked-nicholas",
   "metadata": {
    "papermill": {
     "duration": 0.759113,
     "end_time": "2021-11-04T08:20:56.883359",
     "exception": false,
     "start_time": "2021-11-04T08:20:56.124246",
     "status": "completed"
    },
    "tags": []
   },
   "outputs": [],
   "source": [
    "def remove_pps_outliers(df):\n",
    "    df_out=pd.DataFrame()\n",
    "    for key,subdf in df.groupby('location'):\n",
    "        m=np.mean(subdf.price_per_sqft)\n",
    "        st=np.std(subdf.price_per_sqft)\n",
    "        reduced_df=subdf[(subdf.price_per_sqft>(m-st))& (subdf.price_per_sqft<(m+st))]\n",
    "        df_out=pd.concat([df_out,reduced_df],ignore_index=True)\n",
    "    return df_out\n",
    "data3=remove_pps_outliers(data2)\n",
    "data3.shape"
   ]
  },
  {
   "cell_type": "code",
   "execution_count": null,
   "id": "correct-nirvana",
   "metadata": {
    "papermill": {
     "duration": 0.34611,
     "end_time": "2021-11-04T08:20:57.293974",
     "exception": false,
     "start_time": "2021-11-04T08:20:56.947864",
     "status": "completed"
    },
    "tags": []
   },
   "outputs": [],
   "source": [
    "import matplotlib.pyplot as plt\n",
    "def plot_scatter_chart(df,location):\n",
    "    bhk2=df[(df.location==location)&(df.BHK==2)]\n",
    "    bhk3=df[(df.location==location)&(df.BHK==3)]\n",
    "    plt.rcParams['figure.figsize']=(15,10)\n",
    "    plt.scatter(bhk2.total_sqft,bhk2.price,color='Blue',label='2 BHK',s=50)\n",
    "    plt.scatter(bhk3.total_sqft,bhk3.price,color='green',marker='+',label='3 BHK',s=50)\n",
    "    plt.xlabel('Total Square Foot')\n",
    "    plt.ylabel('Price')\n",
    "    plt.title(location)\n",
    "    plt.legend()\n",
    "plot_scatter_chart(data3,\"Rajaji Nagar\")"
   ]
  },
  {
   "cell_type": "code",
   "execution_count": null,
   "id": "concerned-figure",
   "metadata": {
    "papermill": {
     "duration": 1.020974,
     "end_time": "2021-11-04T08:20:58.380930",
     "exception": false,
     "start_time": "2021-11-04T08:20:57.359956",
     "status": "completed"
    },
    "tags": []
   },
   "outputs": [],
   "source": [
    "def remove_bhk_outliers(df):\n",
    "    exclude_indices=np.array([])\n",
    "    for location, location_df in df.groupby('location'):\n",
    "        bhk_sats={}\n",
    "        for BHK,BHK_df in location_df.groupby('BHK'):\n",
    "            bhk_sats[BHK]={\n",
    "                'mean':np.mean(BHK_df.price_per_sqft),\n",
    "                'std':np.std(BHK_df.price_per_sqft),\n",
    "                'count':BHK_df.shape[0]\n",
    "            }\n",
    "        for BHK,BHK_df in location_df.groupby('BHK'):\n",
    "            stats=bhk_sats.get(BHK-1)\n",
    "            if stats and stats['count']>5:\n",
    "                exclude_indices=np.append(exclude_indices,BHK_df[BHK_df.price_per_sqft<(stats['mean'])].index.values)\n",
    "    return df.drop(exclude_indices,axis='index')\n",
    "\n",
    "data4=remove_bhk_outliers(data3)\n",
    "data4.shape"
   ]
  },
  {
   "cell_type": "code",
   "execution_count": null,
   "id": "amazing-fault",
   "metadata": {
    "papermill": {
     "duration": 0.30794,
     "end_time": "2021-11-04T08:20:58.755329",
     "exception": false,
     "start_time": "2021-11-04T08:20:58.447389",
     "status": "completed"
    },
    "tags": []
   },
   "outputs": [],
   "source": [
    "plot_scatter_chart(data4,\"Rajaji Nagar\")"
   ]
  },
  {
   "cell_type": "code",
   "execution_count": null,
   "id": "architectural-vacuum",
   "metadata": {
    "papermill": {
     "duration": 0.299258,
     "end_time": "2021-11-04T08:20:59.121068",
     "exception": false,
     "start_time": "2021-11-04T08:20:58.821810",
     "status": "completed"
    },
    "tags": []
   },
   "outputs": [],
   "source": [
    "plt.rcParams['figure.figsize']=(20,15)\n",
    "plt.hist(data4.price_per_sqft,rwidth=0.6)\n",
    "plt.xlabel(\"Price Per Square Foor\")\n",
    "plt.ylabel(\"Count\")"
   ]
  },
  {
   "cell_type": "markdown",
   "id": "massive-assets",
   "metadata": {
    "papermill": {
     "duration": 0.067108,
     "end_time": "2021-11-04T08:20:59.255272",
     "exception": false,
     "start_time": "2021-11-04T08:20:59.188164",
     "status": "completed"
    },
    "tags": []
   },
   "source": [
    "\n",
    "# Outlier Removal Using Bathrooms Feature"
   ]
  },
  {
   "cell_type": "code",
   "execution_count": null,
   "id": "royal-rolling",
   "metadata": {
    "papermill": {
     "duration": 0.077943,
     "end_time": "2021-11-04T08:20:59.403998",
     "exception": false,
     "start_time": "2021-11-04T08:20:59.326055",
     "status": "completed"
    },
    "tags": []
   },
   "outputs": [],
   "source": [
    "data4.bath.unique()"
   ]
  },
  {
   "cell_type": "code",
   "execution_count": null,
   "id": "humanitarian-lexington",
   "metadata": {
    "papermill": {
     "duration": 0.087698,
     "end_time": "2021-11-04T08:20:59.558747",
     "exception": false,
     "start_time": "2021-11-04T08:20:59.471049",
     "status": "completed"
    },
    "tags": []
   },
   "outputs": [],
   "source": [
    "data4[data4.bath>10]"
   ]
  },
  {
   "cell_type": "code",
   "execution_count": null,
   "id": "funny-slovenia",
   "metadata": {
    "papermill": {
     "duration": 0.288129,
     "end_time": "2021-11-04T08:20:59.915390",
     "exception": false,
     "start_time": "2021-11-04T08:20:59.627261",
     "status": "completed"
    },
    "tags": []
   },
   "outputs": [],
   "source": [
    "plt.rcParams['figure.figsize']=(20,15)\n",
    "plt.hist(data4.bath,rwidth=0.6)\n",
    "plt.xlabel(\"Number Of Bathroom\")\n",
    "plt.ylabel(\"Count\")"
   ]
  },
  {
   "cell_type": "code",
   "execution_count": null,
   "id": "clinical-discussion",
   "metadata": {
    "papermill": {
     "duration": 0.090817,
     "end_time": "2021-11-04T08:21:00.075612",
     "exception": false,
     "start_time": "2021-11-04T08:20:59.984795",
     "status": "completed"
    },
    "tags": []
   },
   "outputs": [],
   "source": [
    "data4[data4.bath>data4.BHK+2]"
   ]
  },
  {
   "cell_type": "code",
   "execution_count": null,
   "id": "incoming-integration",
   "metadata": {
    "papermill": {
     "duration": 0.08299,
     "end_time": "2021-11-04T08:21:00.229660",
     "exception": false,
     "start_time": "2021-11-04T08:21:00.146670",
     "status": "completed"
    },
    "tags": []
   },
   "outputs": [],
   "source": [
    "data5=data4[data4.bath<data4.BHK+2]\n",
    "data5.shape"
   ]
  },
  {
   "cell_type": "code",
   "execution_count": null,
   "id": "advised-knife",
   "metadata": {
    "papermill": {
     "duration": 0.092108,
     "end_time": "2021-11-04T08:21:00.392745",
     "exception": false,
     "start_time": "2021-11-04T08:21:00.300637",
     "status": "completed"
    },
    "tags": []
   },
   "outputs": [],
   "source": [
    "data6=data5.drop(['size','price_per_sqft'],axis='columns')\n",
    "data6"
   ]
  },
  {
   "cell_type": "code",
   "execution_count": null,
   "id": "underlying-provider",
   "metadata": {
    "papermill": {
     "duration": 0.101981,
     "end_time": "2021-11-04T08:21:00.569036",
     "exception": false,
     "start_time": "2021-11-04T08:21:00.467055",
     "status": "completed"
    },
    "tags": []
   },
   "outputs": [],
   "source": [
    "dummies=pd.get_dummies(data6.location)\n",
    "dummies.head(10)"
   ]
  },
  {
   "cell_type": "code",
   "execution_count": null,
   "id": "circular-worst",
   "metadata": {
    "papermill": {
     "duration": 0.117279,
     "end_time": "2021-11-04T08:21:00.758707",
     "exception": false,
     "start_time": "2021-11-04T08:21:00.641428",
     "status": "completed"
    },
    "tags": []
   },
   "outputs": [],
   "source": [
    "data7=pd.concat([data6,dummies.drop('other',axis='columns')],axis='columns')\n",
    "data7.head()"
   ]
  },
  {
   "cell_type": "code",
   "execution_count": null,
   "id": "prerequisite-laser",
   "metadata": {
    "papermill": {
     "duration": 0.102409,
     "end_time": "2021-11-04T08:21:00.933052",
     "exception": false,
     "start_time": "2021-11-04T08:21:00.830643",
     "status": "completed"
    },
    "tags": []
   },
   "outputs": [],
   "source": [
    "data8=data7.drop('location',axis='columns')\n",
    "data8.head()"
   ]
  },
  {
   "cell_type": "markdown",
   "id": "accurate-serve",
   "metadata": {
    "papermill": {
     "duration": 0.072811,
     "end_time": "2021-11-04T08:21:01.079293",
     "exception": false,
     "start_time": "2021-11-04T08:21:01.006482",
     "status": "completed"
    },
    "tags": []
   },
   "source": [
    "\n",
    "# Build a Model Now..."
   ]
  },
  {
   "cell_type": "code",
   "execution_count": null,
   "id": "north-occupation",
   "metadata": {
    "papermill": {
     "duration": 0.081282,
     "end_time": "2021-11-04T08:21:01.233245",
     "exception": false,
     "start_time": "2021-11-04T08:21:01.151963",
     "status": "completed"
    },
    "tags": []
   },
   "outputs": [],
   "source": [
    "data8.shape"
   ]
  },
  {
   "cell_type": "code",
   "execution_count": null,
   "id": "disciplinary-attendance",
   "metadata": {
    "papermill": {
     "duration": 0.104612,
     "end_time": "2021-11-04T08:21:01.413973",
     "exception": false,
     "start_time": "2021-11-04T08:21:01.309361",
     "status": "completed"
    },
    "tags": []
   },
   "outputs": [],
   "source": [
    "X=data8.drop('price',axis='columns')\n",
    "X.head()"
   ]
  },
  {
   "cell_type": "code",
   "execution_count": null,
   "id": "external-snapshot",
   "metadata": {
    "papermill": {
     "duration": 0.0822,
     "end_time": "2021-11-04T08:21:01.569660",
     "exception": false,
     "start_time": "2021-11-04T08:21:01.487460",
     "status": "completed"
    },
    "tags": []
   },
   "outputs": [],
   "source": [
    "y=data8.price"
   ]
  },
  {
   "cell_type": "code",
   "execution_count": null,
   "id": "threaded-camera",
   "metadata": {
    "papermill": {
     "duration": 1.350616,
     "end_time": "2021-11-04T08:21:02.993824",
     "exception": false,
     "start_time": "2021-11-04T08:21:01.643208",
     "status": "completed"
    },
    "tags": []
   },
   "outputs": [],
   "source": [
    "from sklearn.model_selection import train_test_split\n",
    "X_train,X_test,y_train,y_test=train_test_split(X,y,test_size=0.2)"
   ]
  },
  {
   "cell_type": "code",
   "execution_count": null,
   "id": "vulnerable-emerald",
   "metadata": {
    "papermill": {
     "duration": 0.31951,
     "end_time": "2021-11-04T08:21:03.388072",
     "exception": false,
     "start_time": "2021-11-04T08:21:03.068562",
     "status": "completed"
    },
    "tags": []
   },
   "outputs": [],
   "source": [
    "from sklearn.linear_model import LinearRegression\n",
    "model=LinearRegression()\n",
    "model.fit(X_train,y_train)\n",
    "model.score(X_test,y_test)"
   ]
  },
  {
   "cell_type": "markdown",
   "id": "jewish-services",
   "metadata": {
    "papermill": {
     "duration": 0.074897,
     "end_time": "2021-11-04T08:21:03.607697",
     "exception": false,
     "start_time": "2021-11-04T08:21:03.532800",
     "status": "completed"
    },
    "tags": []
   },
   "source": [
    "# Use K Fold cross validation to measure accuracy of our LinearRegression model"
   ]
  },
  {
   "cell_type": "code",
   "execution_count": null,
   "id": "neural-possible",
   "metadata": {
    "papermill": {
     "duration": 1.044372,
     "end_time": "2021-11-04T08:21:04.725847",
     "exception": false,
     "start_time": "2021-11-04T08:21:03.681475",
     "status": "completed"
    },
    "tags": []
   },
   "outputs": [],
   "source": [
    "from sklearn.model_selection import ShuffleSplit\n",
    "from sklearn.model_selection import cross_val_score\n",
    "\n",
    "cv = ShuffleSplit(n_splits=5, test_size=0.2, random_state=0)\n",
    "\n",
    "cross_val_score(LinearRegression(), X, y, cv=cv)"
   ]
  },
  {
   "cell_type": "markdown",
   "id": "tamil-detail",
   "metadata": {
    "papermill": {
     "duration": 0.074284,
     "end_time": "2021-11-04T08:21:04.945414",
     "exception": false,
     "start_time": "2021-11-04T08:21:04.871130",
     "status": "completed"
    },
    "tags": []
   },
   "source": [
    "\n",
    "# Find best model using GridSearchCV\n"
   ]
  },
  {
   "cell_type": "code",
   "execution_count": null,
   "id": "speaking-stephen",
   "metadata": {
    "papermill": {
     "duration": 7.889808,
     "end_time": "2021-11-04T08:21:12.911435",
     "exception": false,
     "start_time": "2021-11-04T08:21:05.021627",
     "status": "completed"
    },
    "tags": []
   },
   "outputs": [],
   "source": [
    "from sklearn.model_selection import GridSearchCV\n",
    "\n",
    "from sklearn.linear_model import Lasso\n",
    "from sklearn.tree import DecisionTreeRegressor\n",
    "\n",
    "def find_best_model_using_gridsearchcv(X,y):\n",
    "    algos = {\n",
    "        'linear_regression' : {\n",
    "            'model': LinearRegression(),\n",
    "            'params': {\n",
    "                'normalize': [True, False]\n",
    "            }\n",
    "        },\n",
    "        'lasso': {\n",
    "            'model': Lasso(),\n",
    "            'params': {\n",
    "                'alpha': [1,2],\n",
    "                'selection': ['random', 'cyclic']\n",
    "            }\n",
    "        },\n",
    "        'decision_tree': {\n",
    "            'model': DecisionTreeRegressor(),\n",
    "            'params': {\n",
    "                'criterion' : ['mse','friedman_mse'],\n",
    "                'splitter': ['best','random']\n",
    "            }\n",
    "        }\n",
    "    }\n",
    "    scores = []\n",
    "    cv = ShuffleSplit(n_splits=5, test_size=0.2, random_state=0)\n",
    "    for algo_name, config in algos.items():\n",
    "        gs =  GridSearchCV(config['model'], config['params'], cv=cv, return_train_score=False)\n",
    "        gs.fit(X,y)\n",
    "        scores.append({\n",
    "            'model': algo_name,\n",
    "            'best_score': gs.best_score_,\n",
    "            'best_params': gs.best_params_\n",
    "        })\n",
    "\n",
    "    return pd.DataFrame(scores,columns=['model','best_score','best_params'])\n",
    "\n",
    "find_best_model_using_gridsearchcv(X,y)"
   ]
  },
  {
   "cell_type": "markdown",
   "id": "confident-removal",
   "metadata": {
    "papermill": {
     "duration": 0.07534,
     "end_time": "2021-11-04T08:21:13.063634",
     "exception": false,
     "start_time": "2021-11-04T08:21:12.988294",
     "status": "completed"
    },
    "tags": []
   },
   "source": [
    "\n",
    "**Based on above results we can say that LinearRegression gives the best score. Hence we will use that.**"
   ]
  },
  {
   "cell_type": "markdown",
   "id": "improved-titanium",
   "metadata": {
    "papermill": {
     "duration": 0.074435,
     "end_time": "2021-11-04T08:21:13.213015",
     "exception": false,
     "start_time": "2021-11-04T08:21:13.138580",
     "status": "completed"
    },
    "tags": []
   },
   "source": [
    "\n",
    "# Test the model for few properties"
   ]
  },
  {
   "cell_type": "code",
   "execution_count": null,
   "id": "minor-currency",
   "metadata": {
    "papermill": {
     "duration": 0.106749,
     "end_time": "2021-11-04T08:21:13.399005",
     "exception": false,
     "start_time": "2021-11-04T08:21:13.292256",
     "status": "completed"
    },
    "tags": []
   },
   "outputs": [],
   "source": [
    "def price_predict(location,sqft,bath,BHK):\n",
    "    loc_index=np.where(X.columns==location)[0][0]\n",
    "    x=np.zeros(len(X.columns))\n",
    "    x[0]=sqft\n",
    "    x[1]=bath\n",
    "    x[2]=BHK\n",
    "    if loc_index >=0:\n",
    "        x[loc_index]=1\n",
    "    return model.predict([x])[0]"
   ]
  },
  {
   "cell_type": "code",
   "execution_count": null,
   "id": "induced-infrastructure",
   "metadata": {
    "papermill": {
     "duration": 0.086346,
     "end_time": "2021-11-04T08:21:13.565818",
     "exception": false,
     "start_time": "2021-11-04T08:21:13.479472",
     "status": "completed"
    },
    "tags": []
   },
   "outputs": [],
   "source": [
    "price_predict('1st Phase JP Nagar',1000,2,2)"
   ]
  },
  {
   "cell_type": "code",
   "execution_count": null,
   "id": "stopped-impact",
   "metadata": {
    "papermill": {
     "duration": 0.098044,
     "end_time": "2021-11-04T08:21:13.740196",
     "exception": false,
     "start_time": "2021-11-04T08:21:13.642152",
     "status": "completed"
    },
    "tags": []
   },
   "outputs": [],
   "source": [
    "price_predict('1st Phase JP Nagar',1000,2,3)"
   ]
  },
  {
   "cell_type": "code",
   "execution_count": null,
   "id": "dangerous-detection",
   "metadata": {
    "papermill": {
     "duration": 0.087041,
     "end_time": "2021-11-04T08:21:13.904732",
     "exception": false,
     "start_time": "2021-11-04T08:21:13.817691",
     "status": "completed"
    },
    "tags": []
   },
   "outputs": [],
   "source": [
    "price_predict('5th Phase JP Nagar',1000,2,2)"
   ]
  },
  {
   "cell_type": "code",
   "execution_count": null,
   "id": "mighty-frost",
   "metadata": {
    "papermill": {
     "duration": 0.086593,
     "end_time": "2021-11-04T08:21:14.067352",
     "exception": false,
     "start_time": "2021-11-04T08:21:13.980759",
     "status": "completed"
    },
    "tags": []
   },
   "outputs": [],
   "source": [
    "price_predict('Indira Nagar',1000,2,2)"
   ]
  }
 ],
 "metadata": {
  "kernelspec": {
   "display_name": "Python [conda env:base] *",
   "language": "python",
   "name": "conda-base-py"
  },
  "language_info": {
   "codemirror_mode": {
    "name": "ipython",
    "version": 3
   },
   "file_extension": ".py",
   "mimetype": "text/x-python",
   "name": "python",
   "nbconvert_exporter": "python",
   "pygments_lexer": "ipython3",
   "version": "3.12.7"
  },
  "papermill": {
   "default_parameters": {},
   "duration": 32.979439,
   "end_time": "2021-11-04T08:21:15.737092",
   "environment_variables": {},
   "exception": null,
   "input_path": "__notebook__.ipynb",
   "output_path": "__notebook__.ipynb",
   "parameters": {},
   "start_time": "2021-11-04T08:20:42.757653",
   "version": "2.3.3"
  }
 },
 "nbformat": 4,
 "nbformat_minor": 5
}
